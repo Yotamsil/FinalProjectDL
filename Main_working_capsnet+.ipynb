{
  "nbformat": 4,
  "nbformat_minor": 0,
  "metadata": {
    "colab": {
      "name": "Main.ipynb",
      "provenance": [],
      "collapsed_sections": []
    },
    "language_info": {
      "name": "python"
    },
    "kernelspec": {
      "name": "python3",
      "display_name": "Python 3"
    },
    "accelerator": "GPU"
  },
  "cells": [
    {
      "cell_type": "markdown",
      "metadata": {
        "id": "Cx3i2Op-6X5n"
      },
      "source": [
        "# **Introduction to Deep Learning: Final Project**\n",
        "\n",
        "**Submitted by:**\n",
        "\n",
        "Roei Matz       205871478\n",
        "\n",
        "Yotam Silverman 313532418"
      ]
    },
    {
      "cell_type": "markdown",
      "metadata": {
        "id": "s4Ki8M-pCmgF"
      },
      "source": [
        "# Project Description\n",
        "\n",
        "The data for this project was gathered from the [sign language MNIST](https://www.kaggle.com/datamunge/sign-language-mnist) dataset from the website kaggle.com.\n",
        "\n",
        "\n",
        "The dataset format is patterned to match closely with the classic MNIST. Each training and test case represents a label (0-25) as a one-to-one map for each alphabetic letter A-Z (and no cases for 9=J or 25=Z because of gesture motions). The training data (27,455 cases) and test data (7172 cases) are approximately half the size of the standard MNIST but otherwise similar with a header row of label, pixel1,pixel2….pixel784 which represent a single 28x28 pixel image with grayscale values between 0-255.\n",
        "\n",
        "Our project's objective is to design and build a neural network that will identify the letters given in each image."
      ]
    },
    {
      "cell_type": "code",
      "metadata": {
        "id": "2zdEvcdO6X5s"
      },
      "source": [
        "import pandas\n",
        "import numpy as np\n",
        "import matplotlib.pyplot as plt\n",
        "import collections\n",
        "\n",
        "import torch\n",
        "import torch.nn as nn\n",
        "import torch.nn.functional as F\n",
        "import torch.optim as optim\n",
        "\n",
        "from torchvision import datasets, transforms\n",
        "\n",
        "# CapsNet related imports\n",
        "import os\n",
        "import pandas as pd\n",
        "from sklearn.metrics import accuracy_score\n",
        "# # clone package repository\n",
        "# !git clone https://github.com/jindongwang/Pytorch-CapsuleNet.git\n",
        "\n",
        "# # navigate to directory\n",
        "# %cd Pytorch-CapsuleNet\n",
        "\n",
        "# # get modifications made on the repo\n",
        "# !git pull origin master\n",
        "\n",
        "# # import it\n",
        "# from capsnet import CapsNet\n",
        "\n",
        "import torch.optim as optim\n",
        "from sklearn.metrics import confusion_matrix, ConfusionMatrixDisplay\n",
        "import seaborn as sn\n",
        "import matplotlib.pyplot as plt\n",
        "\n",
        "device = torch.device(\"cuda:0\" if torch.cuda.is_available() else \"cpu\") "
      ],
      "execution_count": 1,
      "outputs": []
    },
    {
      "cell_type": "markdown",
      "metadata": {
        "id": "70FvfUt8E0aX"
      },
      "source": [
        "Mount Google Drive and load the project's data:"
      ]
    },
    {
      "cell_type": "code",
      "metadata": {
        "colab": {
          "base_uri": "https://localhost:8080/"
        },
        "id": "PRlPFrSaEoJi",
        "outputId": "e2adf129-b69c-42e7-b443-7fc2a0589ee6"
      },
      "source": [
        "from google.colab import drive\n",
        "drive.mount('/content/gdrive')\n",
        "train_csv = open('/content/gdrive/My Drive/Intro_to_Deep_Learning/sign_mnist_train.csv')\n",
        "test_csv  = open('/content/gdrive/My Drive/Intro_to_Deep_Learning/sign_mnist_test.csv')\n",
        "x_train_val = np.genfromtxt(train_csv, delimiter=',')[1:,1:]\n",
        "x_test = np.genfromtxt(test_csv, delimiter=',')[1:,1:]\n",
        "\n",
        "train_csv = open('/content/gdrive/My Drive/Intro_to_Deep_Learning/sign_mnist_train.csv')\n",
        "test_csv  = open('/content/gdrive/My Drive/Intro_to_Deep_Learning/sign_mnist_test.csv')\n",
        "t_train_val = np.genfromtxt(train_csv, delimiter=',')[1:,0]\n",
        "t_test =  np.genfromtxt(test_csv, delimiter=',')[1:,0]"
      ],
      "execution_count": 2,
      "outputs": [
        {
          "output_type": "stream",
          "name": "stdout",
          "text": [
            "Mounted at /content/gdrive\n"
          ]
        }
      ]
    },
    {
      "cell_type": "markdown",
      "source": [
        "Splitting the train set to train and validation:"
      ],
      "metadata": {
        "id": "SwPEZ6Xpc77u"
      }
    },
    {
      "cell_type": "code",
      "source": [
        "x_train = x_train_val[0:round(0.8*len(x_train_val))]\n",
        "x_val = x_train_val[round(0.8*len(x_train_val)):]\n",
        "\n",
        "t_train = t_train_val[0:round(0.8*len(t_train_val))]\n",
        "t_val = t_train_val[round(0.8*len(t_train_val)):]"
      ],
      "metadata": {
        "id": "7PBs_xGAdAt1"
      },
      "execution_count": 3,
      "outputs": []
    },
    {
      "cell_type": "markdown",
      "source": [
        "Making a dictionary for the alphabet:"
      ],
      "metadata": {
        "id": "KzfWCyP27hnX"
      }
    },
    {
      "cell_type": "code",
      "source": [
        "import string\n",
        "alphabet_dict = dict(zip(range(0,26),string.ascii_uppercase))\n",
        "\n",
        "print(alphabet_dict)"
      ],
      "metadata": {
        "id": "4g1lTM9d7fb1",
        "outputId": "54230883-8045-47c1-8984-a44e390e5466",
        "colab": {
          "base_uri": "https://localhost:8080/"
        }
      },
      "execution_count": 4,
      "outputs": [
        {
          "output_type": "stream",
          "name": "stdout",
          "text": [
            "{0: 'A', 1: 'B', 2: 'C', 3: 'D', 4: 'E', 5: 'F', 6: 'G', 7: 'H', 8: 'I', 9: 'J', 10: 'K', 11: 'L', 12: 'M', 13: 'N', 14: 'O', 15: 'P', 16: 'Q', 17: 'R', 18: 'S', 19: 'T', 20: 'U', 21: 'V', 22: 'W', 23: 'X', 24: 'Y', 25: 'Z'}\n"
          ]
        }
      ]
    },
    {
      "cell_type": "markdown",
      "metadata": {
        "id": "qo6PrBdGsC4M"
      },
      "source": [
        "Here, we show few examples of the letters notions in the sign language:"
      ]
    },
    {
      "cell_type": "code",
      "metadata": {
        "colab": {
          "base_uri": "https://localhost:8080/",
          "height": 105
        },
        "id": "PzC3fRTiKEZn",
        "outputId": "ffc284e7-6354-4c53-ebb7-3cb5e9f85702"
      },
      "source": [
        "plt.figure(figsize=(6, 3))\n",
        "for i in range(0,5): \n",
        "  plt.subplot(1, 5, i + 1)\n",
        "  img = x_train[i]\n",
        "  img = np.reshape(img, (28, 28))\n",
        "  plt.imshow(img, cmap='Greys_r')\n",
        "  plt.title(alphabet_dict[int(t_train[i])])\n",
        "  plt.axis('off');"
      ],
      "execution_count": 5,
      "outputs": [
        {
          "output_type": "display_data",
          "data": {
            "image/png": "[encoded data removed]",
            "text/plain": [
              "<Figure size 432x216 with 5 Axes>"
            ]
          },
          "metadata": {
            "needs_background": "light"
          }
        }
      ]
    },
    {
      "cell_type": "markdown",
      "metadata": {
        "id": "x8AVb_qUFJIG"
      },
      "source": [
        "Normalizing the data set:"
      ]
    },
    {
      "cell_type": "code",
      "metadata": {
        "id": "Wpn4WesUFUxg"
      },
      "source": [
        "def img_norm(data):\n",
        "  output = []\n",
        "  for img in data: \n",
        "    img = (img - np.mean(img))/np.std(img)  #zero mean and a unit standard deviation\n",
        "    output.append(np.array(img))\n",
        "  return np.array(output)\n",
        "\n",
        "# def img_norm(data): # 63% accuracy\n",
        "#   output = []\n",
        "#   for img in data: \n",
        "#     img = img/255                        #pixels' values between 0 to 1\n",
        "#     output.append(np.array(img))\n",
        "#   return np.array(output)\n",
        "\n",
        "# def img_norm(data): # 78% accuracy\n",
        "#   output = []\n",
        "#   for img in data: \n",
        "#     img = img/255 - 0.5                 #pixels' values between -0.5 to 0.5\n",
        "#     output.append(np.array(img))\n",
        "#   return np.array(output)\n",
        "\n",
        "x_train_norm = img_norm(x_train)\n",
        "x_val_norm = img_norm(x_val)\n",
        "x_test_norm = img_norm(x_test)"
      ],
      "execution_count": 6,
      "outputs": []
    },
    {
      "cell_type": "code",
      "source": [
        "train_loader = torch.utils.data.DataLoader(\n",
        "    np.concatenate((t_train[:,None], x_train_norm),axis=1),\n",
        "    batch_size=64, shuffle=True)\n",
        "\n",
        "val_loader = torch.utils.data.DataLoader(\n",
        "    np.concatenate((t_val[:,None], x_val_norm),axis=1),\n",
        "    batch_size=64, shuffle=True)\n",
        "\n",
        "test_loader = torch.utils.data.DataLoader(\n",
        "    np.concatenate((t_test[:,None], x_test_norm),axis=1),\n",
        "    batch_size=64, shuffle=True)"
      ],
      "metadata": {
        "id": "asK3ozBuKoEl"
      },
      "execution_count": 7,
      "outputs": []
    },
    {
      "cell_type": "markdown",
      "source": [
        "After checking the network with several normalztions techniques, such as: dividing each image by 255 so we will have values between 0 and 1, and also subtracting 0.5 so that the elements of will be between -0.5 and 0.5, we chose to normalize by subtracting the mean of each image and dividing the standard deviation. This normaliztion provided the best accuracy with our models."
      ],
      "metadata": {
        "id": "9MPFKCtDmUtR"
      }
    },
    {
      "cell_type": "markdown",
      "source": [
        "In order to examine the model performance, we used a confusion matrix. \n",
        "The confusion matrix will show us the numbers of correct predictions vs number of wrong predictions for each letter."
      ],
      "metadata": {
        "id": "fjHUGWOznKF0"
      }
    },
    {
      "cell_type": "code",
      "source": [
        "def show_confusion_matrix(conf_mat):\n",
        "    disp = ConfusionMatrixDisplay(confusion_matrix=conf_mat, display_labels=[alphabet_dict[i] for i in list(range(0,9))+list(range(10,25))])\n",
        "    fig, ax = plt.subplots(figsize=(14, 12))\n",
        "    ax.set_xlabel('Preicted Label', fontsize=16)\n",
        "    ax.set_ylabel('True Label', fontsize=16) \n",
        "    disp.plot(ax=ax)"
      ],
      "metadata": {
        "id": "qAIL7-qCnIwU"
      },
      "execution_count": 8,
      "outputs": []
    },
    {
      "cell_type": "markdown",
      "metadata": {
        "id": "qTzKhbQxR3ik"
      },
      "source": [
        "Defining CNN model:"
      ]
    },
    {
      "cell_type": "code",
      "metadata": {
        "id": "v6cZcnLpR1yD"
      },
      "source": [
        "class CNN(nn.Module):\n",
        "    def __init__(self, input_size, n_feature, output_size, num_of_layers):\n",
        "        super(CNN, self).__init__()\n",
        "        self.n_feature = n_feature\n",
        "        self.num_of_layers = num_of_layers\n",
        "        self.length_calc = int(np.floor(np.sqrt(input_size)//(2**num_of_layers)))  \n",
        "        self.conv1 = nn.Conv2d(in_channels=1, out_channels=n_feature, kernel_size=5, padding='same')\n",
        "        self.conv2 = nn.Conv2d(n_feature, n_feature, kernel_size=5, padding='same')\n",
        "        self.conv3 = nn.Conv2d(n_feature, n_feature, kernel_size=5, padding='same')        \n",
        "        self.fc1 = nn.Linear(n_feature*self.length_calc*self.length_calc, 50)\n",
        "        self.fc2 = nn.Linear(50, output_size)\n",
        "        \n",
        "    def forward(self, x, verbose=False):\n",
        "        x = self.conv1(x)                   \n",
        "        x = F.relu(x)\n",
        "        x = F.max_pool2d(x, kernel_size=2)\n",
        "        if self.num_of_layers > 1:\n",
        "          x = self.conv2(x)\n",
        "          x = F.relu(x)\n",
        "          x = F.max_pool2d(x, kernel_size=2)\n",
        "          if self.num_of_layers > 2:\n",
        "            x = self.conv3(x)\n",
        "            x = F.relu(x)\n",
        "            x = F.max_pool2d(x, kernel_size=2)\n",
        "            \n",
        "        x = x.view(-1, self.n_feature*self.length_calc*self.length_calc)\n",
        "        x = self.fc1(x)\n",
        "        x = F.relu(x)\n",
        "        x = self.fc2(x)\n",
        "        x = F.log_softmax(x, dim=1)\n",
        "        return x"
      ],
      "execution_count": 9,
      "outputs": []
    },
    {
      "cell_type": "markdown",
      "source": [
        "Defining accuracy measure function and a training function:"
      ],
      "metadata": {
        "id": "llvJcX4PqCPT"
      }
    },
    {
      "cell_type": "code",
      "source": [
        "def get_accuracy(model, loader=train_loader):\n",
        "    model.eval()\n",
        "    loss = 0\n",
        "    correct = 0\n",
        "    pred_list = []\n",
        "    true_list = []\n",
        "    for ar in loader:\n",
        "        data = ar[:,1:]\n",
        "        label = ar[:,0]\n",
        "        # send to device\n",
        "        data, label = data.to(device), label.to(device)\n",
        "        \n",
        "        data = data.view(-1, 28*28)\n",
        "        data = data.view(-1, 1, 28, 28)\n",
        "        pred = model(data)\n",
        "        loss += F.nll_loss(pred, label.long(), reduction='sum').item() # sum up batch loss                                                               \n",
        "        pred = pred.data.max(1, keepdim=True)[1] # get the index of the max log-probability                                                                 \n",
        "        correct += pred.eq(label.data.view_as(pred)).cpu().sum().item()\n",
        " \n",
        "        for y in pred.squeeze(1):\n",
        "          pred_list.append(y.cpu())\n",
        "\n",
        "        for y in label:  \n",
        "          true_list.append(y.cpu())\n",
        "          \n",
        "    conf_mat = confusion_matrix(true_list, pred_list, labels=list(range(0,9))+list(range(10,25)))    \n",
        "    loss /= len(loader.dataset)\n",
        "    accuracy = 100. * correct / len(loader.dataset)\n",
        "    \n",
        "    return loss, accuracy, conf_mat\n",
        "\n",
        "def train(model, lr=0.01, momentum=0.5, max_iters=1000,num_epochs=6,show_prints=True):\n",
        "    model.train()\n",
        "    train_accs, valid_accs = [], []\n",
        "    epochs = []\n",
        "    optimizer = optim.Adam(model.parameters(), lr=lr)\n",
        "    n = 0 # the number of iterations\n",
        "    iters, losses = [], []\n",
        "    iters_sub = []\n",
        "\n",
        "    for epoch in range(0, num_epochs):\n",
        "\n",
        "        for batch_idx, ar in enumerate(train_loader):           \n",
        "            data = ar[:,1:]\n",
        "            label = ar[:,0]\n",
        "            # send to device\n",
        "            data, label = data.to(device), label.to(device)\n",
        "            data = data.view(-1, 28*28)\n",
        "            data = data.view(-1, 1, 28, 28)\n",
        "\n",
        "            optimizer.zero_grad()\n",
        "            pred = model(data)\n",
        "            loss = F.nll_loss(pred, label.long())\n",
        "            loss.backward()\n",
        "            optimizer.step()\n",
        "\n",
        "            iters.append(n)\n",
        "            losses.append(loss)\n",
        "\n",
        "            if batch_idx % 64 == 0: \n",
        "                \n",
        "                iters_sub.append(n)\n",
        "                train_loss, train_acc, _ = get_accuracy(model, loader=train_loader)\n",
        "                train_accs.append(train_acc)\n",
        "\n",
        "                valid_loss, valid_acc, _ = get_accuracy(model, loader=val_loader)\n",
        "                valid_accs.append(valid_acc)\n",
        "                if show_prints:\n",
        "                  print(\"Iter %d. [Val Acc %.0f%%] [Train Acc %.0f%%, Loss %f]\" % (n, valid_acc, train_acc, train_loss))\n",
        "\n",
        "            # increment the iteration number\n",
        "            n += 1\n",
        "            if n > max_iters:\n",
        "                return iters, losses, iters_sub, train_accs, valid_accs\n",
        "    return iters, losses, iters_sub, train_accs, valid_accs"
      ],
      "metadata": {
        "id": "RdU0GU5SpvEm"
      },
      "execution_count": 10,
      "outputs": []
    },
    {
      "cell_type": "code",
      "source": [
        "# Training settings \n",
        "n_features = 10       # number of feature maps\n",
        "\n",
        "input_size  = 28*28   # images are 28x28 pixels\n",
        "output_size = 26      # there are 26 classes"
      ],
      "metadata": {
        "id": "iSUF9Lw2DUBl"
      },
      "execution_count": 11,
      "outputs": []
    },
    {
      "cell_type": "markdown",
      "source": [
        "We tried several CNNs using different number of layers.\n",
        "\n",
        "Here, we defined 3 CNNs with one layer, two layers and three layers:"
      ],
      "metadata": {
        "id": "EMkASkc6rEzA"
      }
    },
    {
      "cell_type": "code",
      "metadata": {
        "colab": {
          "base_uri": "https://localhost:8080/"
        },
        "id": "-8PZXeXgSgDh",
        "outputId": "7e18a645-7d4f-4b7a-80c1-391d1876cfd4"
      },
      "source": [
        "model_cnn1 = CNN(input_size, n_features, output_size,1)\n",
        "model_cnn1.to(device)\n",
        "model_cnn2 = CNN(input_size, n_features, output_size,num_of_layers=2)\n",
        "model_cnn2.to(device)\n",
        "model_cnn3 = CNN(input_size, n_features, output_size,3)\n",
        "model_cnn3.to(device)"
      ],
      "execution_count": 12,
      "outputs": [
        {
          "output_type": "execute_result",
          "data": {
            "text/plain": [
              "CNN(\n",
              "  (conv1): Conv2d(1, 10, kernel_size=(5, 5), stride=(1, 1), padding=same)\n",
              "  (conv2): Conv2d(10, 10, kernel_size=(5, 5), stride=(1, 1), padding=same)\n",
              "  (conv3): Conv2d(10, 10, kernel_size=(5, 5), stride=(1, 1), padding=same)\n",
              "  (fc1): Linear(in_features=90, out_features=50, bias=True)\n",
              "  (fc2): Linear(in_features=50, out_features=26, bias=True)\n",
              ")"
            ]
          },
          "metadata": {},
          "execution_count": 12
        }
      ]
    },
    {
      "cell_type": "code",
      "source": [
        "lr = 0.001\n",
        "momentum = 0.1\n",
        "\n",
        "iters, losses, iters_sub, train_accs, valid_accs = train(model_cnn1.double(), lr=lr, momentum=momentum, max_iters=640,num_epochs=6,show_prints=False)\n",
        "iters, losses, iters_sub, train_accs, valid_accs = train(model_cnn2.double(), lr=lr, momentum=momentum, max_iters=640,num_epochs=6,show_prints=False)\n",
        "iters, losses, iters_sub, train_accs, valid_accs = train(model_cnn3.double(), lr=lr, momentum=momentum, max_iters=640,num_epochs=6,show_prints=False)"
      ],
      "metadata": {
        "id": "NdTodunAy1de"
      },
      "execution_count": 13,
      "outputs": []
    },
    {
      "cell_type": "markdown",
      "source": [
        "We check our model performance by calculating the loss and the accuracy of the model with the test set.\n",
        "\n",
        "We can see that we recieved the best results with the two layers network:"
      ],
      "metadata": {
        "id": "y3N5RDOdEJ1x"
      }
    },
    {
      "cell_type": "code",
      "source": [
        "test_loss, test_acc_1, test_conf_mat = get_accuracy(model_cnn1,loader=test_loader)\n",
        "print(\"Test set for 1 layer: Average loss: %f, Accuracy: %.0f%%\" % (test_loss,test_acc_1)) \n",
        "test_loss, test_acc_2, test_conf_mat = get_accuracy(model_cnn2,loader=test_loader)\n",
        "print(\"Test set for 2 layers: Average loss: %f, Accuracy: %.0f%%\" % (test_loss,test_acc_2)) \n",
        "test_loss, test_acc_3, test_conf_mat = get_accuracy(model_cnn3,loader=test_loader)\n",
        "print(\"Test set for 3 layers: Average loss: %f, Accuracy: %.0f%%\" % (test_loss,test_acc_3)) "
      ],
      "metadata": {
        "colab": {
          "base_uri": "https://localhost:8080/"
        },
        "id": "zld7D0DurOHn",
        "outputId": "15381700-a816-4673-e93b-57df28a7e3e1"
      },
      "execution_count": 14,
      "outputs": [
        {
          "output_type": "stream",
          "name": "stdout",
          "text": [
            "Test set for 1 layer: Average loss: 0.616807, Accuracy: 85%\n",
            "Test set for 2 layers: Average loss: 0.343581, Accuracy: 90%\n",
            "Test set for 3 layers: Average loss: 0.513173, Accuracy: 86%\n"
          ]
        }
      ]
    },
    {
      "cell_type": "markdown",
      "source": [
        "Now we will check the performance changing the learning rate."
      ],
      "metadata": {
        "id": "sdYFljkYEoQZ"
      }
    },
    {
      "cell_type": "code",
      "source": [
        "lrs = [x / 10000 for x in range(1, 110, 10)]\n",
        "# lr_accs_1 = []\n",
        "lr_accs_2 = []\n",
        "\n",
        "for lr in lrs:\n",
        "    # reseting the model\n",
        "    # model_cnn1 = CNN(input_size, n_features, output_size,num_of_layers=1)\n",
        "    # model_cnn1.to(device)\n",
        "    model_cnn2 = CNN(input_size, n_features, output_size,num_of_layers=2)\n",
        "    model_cnn2.to(device)\n",
        "    print(f\"---learning rate: {lr}---\")\n",
        "    # train(model_cnn1.double(), lr=lr, momentum=momentum, max_iters=640,num_epochs=6,show_prints=False)\n",
        "    train(model_cnn2.double(), lr=lr, momentum=momentum, max_iters=640,num_epochs=6,show_prints=False)\n",
        "    # test_loss, test_acc_1, test_conf_mat = get_accuracy(model_cnn1,loader=test_loader)\n",
        "    # print(\"Test set for 1 layer: Average loss: %f, Accuracy: %.0f%%\" % (test_loss,test_acc_1)) \n",
        "    # lr_accs_1.append(test_acc_1)\n",
        "    test_loss, test_acc_2, test_conf_mat = get_accuracy(model_cnn2,loader=test_loader)\n",
        "    print(\"Test set for 2 layers: Average loss: %f, Accuracy: %.0f%%\" % (test_loss,test_acc_2)) \n",
        "    lr_accs_2.append(test_acc_2) "
      ],
      "metadata": {
        "colab": {
          "base_uri": "https://localhost:8080/"
        },
        "id": "udT_WcMhFMx0",
        "outputId": "d5313cc8-81f6-4792-81ac-e5c159758958"
      },
      "execution_count": 29,
      "outputs": [
        {
          "output_type": "stream",
          "name": "stdout",
          "text": [
            "---learning rate: 0.0001---\n",
            "Test set for 2 layers: Average loss: 1.174609, Accuracy: 63%\n",
            "---learning rate: 0.0011---\n",
            "Test set for 2 layers: Average loss: 0.493701, Accuracy: 86%\n",
            "---learning rate: 0.0021---\n",
            "Test set for 2 layers: Average loss: 0.394271, Accuracy: 89%\n",
            "---learning rate: 0.0031---\n",
            "Test set for 2 layers: Average loss: 0.402389, Accuracy: 91%\n",
            "---learning rate: 0.0041---\n",
            "Test set for 2 layers: Average loss: 0.279971, Accuracy: 93%\n",
            "---learning rate: 0.0051---\n",
            "Test set for 2 layers: Average loss: 0.204326, Accuracy: 95%\n",
            "---learning rate: 0.0061---\n",
            "Test set for 2 layers: Average loss: 0.394220, Accuracy: 91%\n",
            "---learning rate: 0.0071---\n",
            "Test set for 2 layers: Average loss: 0.325004, Accuracy: 94%\n",
            "---learning rate: 0.0081---\n",
            "Test set for 2 layers: Average loss: 0.598333, Accuracy: 91%\n",
            "---learning rate: 0.0091---\n",
            "Test set for 2 layers: Average loss: 0.987806, Accuracy: 82%\n",
            "---learning rate: 0.0101---\n",
            "Test set for 2 layers: Average loss: 0.658620, Accuracy: 90%\n"
          ]
        }
      ]
    },
    {
      "cell_type": "code",
      "source": [
        "fig = plt.figure(figsize = (10, 5))\n",
        "lrs_values = [str(i) for i in lrs]\n",
        "# creating the bar plot\n",
        "plt.bar(lrs_values, lr_accs_2, color ='maroon', width = 0.4)\n",
        " \n",
        "plt.xlabel(\"Learning rates\")\n",
        "plt.ylabel(\"Accuracies\")\n",
        "plt.title(\"Accuracies for different learning rates\")\n",
        "plt.show()"
      ],
      "metadata": {
        "id": "f2x9KRsoO7RR",
        "outputId": "001ce4be-0ef7-4bab-fc0f-36c48384bf50",
        "colab": {
          "base_uri": "https://localhost:8080/",
          "height": 350
        }
      },
      "execution_count": 30,
      "outputs": [
        {
          "output_type": "display_data",
          "data": {
            "image/png": "[encoded data removed]",
            "text/plain": [
              "<Figure size 720x360 with 1 Axes>"
            ]
          },
          "metadata": {
            "needs_background": "light"
          }
        }
      ]
    },
    {
      "cell_type": "markdown",
      "source": [
        "Now we will check the performance changing the batch size."
      ],
      "metadata": {
        "id": "I1Ss_5JJYJtS"
      }
    },
    {
      "cell_type": "code",
      "source": [
        "bs_list = range(16, 240, 16)\n",
        "bs_accs = []\n",
        "lr = 0.006\n",
        "\n",
        "for bs in bs_list:\n",
        "    train_loader = torch.utils.data.DataLoader(\n",
        "        np.concatenate((t_train[:,None], x_train_norm),axis=1),\n",
        "        batch_size=bs, shuffle=True)\n",
        "\n",
        "    val_loader = torch.utils.data.DataLoader(\n",
        "        np.concatenate((t_val[:,None], x_val_norm),axis=1),\n",
        "        batch_size=bs, shuffle=True)\n",
        "\n",
        "    test_loader = torch.utils.data.DataLoader(\n",
        "        np.concatenate((t_test[:,None], x_test_norm),axis=1),\n",
        "        batch_size=bs, shuffle=True)\n",
        "    \n",
        "    # reseting the model\n",
        "    model_cnn2 = CNN(input_size, n_features, output_size,num_of_layers=2)\n",
        "    model_cnn2.to(device)\n",
        "    print(f\"---batch size: {bs}---\")\n",
        "    train(model_cnn2.double(), lr=lr, momentum=momentum, max_iters=640,num_epochs=6,show_prints=False)\n",
        "    test_loss, test_acc_2, test_conf_mat = get_accuracy(model_cnn2,loader=test_loader)\n",
        "    print(\"Test set for 2 layers: Average loss: %f, Accuracy: %.0f%%\" % (test_loss,test_acc_2)) \n",
        "    bs_accs.append(test_acc_2)"
      ],
      "metadata": {
        "id": "8lEworC2W9D-",
        "outputId": "541f3f1e-f452-45a4-8a58-80e55c671d9b",
        "colab": {
          "base_uri": "https://localhost:8080/"
        }
      },
      "execution_count": 35,
      "outputs": [
        {
          "output_type": "stream",
          "name": "stdout",
          "text": [
            "---batch size: 16---\n",
            "Test set for 2 layers: Average loss: 0.390176, Accuracy: 88%\n",
            "---batch size: 32---\n",
            "Test set for 2 layers: Average loss: 0.536670, Accuracy: 87%\n",
            "---batch size: 48---\n",
            "Test set for 2 layers: Average loss: 0.599373, Accuracy: 90%\n",
            "---batch size: 64---\n",
            "Test set for 2 layers: Average loss: 0.411681, Accuracy: 92%\n",
            "---batch size: 80---\n",
            "Test set for 2 layers: Average loss: 0.457995, Accuracy: 89%\n",
            "---batch size: 96---\n",
            "Test set for 2 layers: Average loss: 0.649141, Accuracy: 87%\n",
            "---batch size: 112---\n",
            "Test set for 2 layers: Average loss: 0.484725, Accuracy: 93%\n",
            "---batch size: 128---\n",
            "Test set for 2 layers: Average loss: 0.354502, Accuracy: 94%\n",
            "---batch size: 144---\n",
            "Test set for 2 layers: Average loss: 0.440929, Accuracy: 92%\n",
            "---batch size: 160---\n",
            "Test set for 2 layers: Average loss: 0.410712, Accuracy: 91%\n",
            "---batch size: 176---\n",
            "Test set for 2 layers: Average loss: 0.461656, Accuracy: 91%\n",
            "---batch size: 192---\n",
            "Test set for 2 layers: Average loss: 0.494943, Accuracy: 90%\n",
            "---batch size: 208---\n",
            "Test set for 2 layers: Average loss: 0.374702, Accuracy: 92%\n",
            "---batch size: 224---\n",
            "Test set for 2 layers: Average loss: 0.374768, Accuracy: 92%\n"
          ]
        }
      ]
    },
    {
      "cell_type": "code",
      "source": [
        "fig = plt.figure(figsize = (10, 5))\n",
        "bs_values = [str(i) for i in bs_list]\n",
        "# creating the bar plot\n",
        "plt.bar(bs_values, bs_accs, color ='maroon', width = 0.4)\n",
        " \n",
        "plt.xlabel(\"Batch sizes\")\n",
        "plt.ylabel(\"Accuracies\")\n",
        "plt.title(\"Accuracies for different batch sizes\")\n",
        "plt.show()"
      ],
      "metadata": {
        "id": "j20L1N8lZjT7",
        "outputId": "255d6d1f-cc74-4c36-bed9-6b2d22b28aef",
        "colab": {
          "base_uri": "https://localhost:8080/",
          "height": 350
        }
      },
      "execution_count": 37,
      "outputs": [
        {
          "output_type": "display_data",
          "data": {
            "image/png": "[encoded data removed]",
            "text/plain": [
              "<Figure size 720x360 with 1 Axes>"
            ]
          },
          "metadata": {
            "needs_background": "light"
          }
        }
      ]
    },
    {
      "cell_type": "markdown",
      "source": [
        "In conclusion, we chose the following hyperparameters:\n",
        "\n",
        "number of layers = 2\n",
        "learning rate = 0.006\n",
        "batch size = "
      ],
      "metadata": {
        "id": "C2f-A3RuP33X"
      }
    },
    {
      "cell_type": "code",
      "source": [
        "bs = 144\n",
        "lr = 0.006\n",
        "\n",
        "train_loader = torch.utils.data.DataLoader(\n",
        "    np.concatenate((t_train[:,None], x_train_norm),axis=1),\n",
        "    batch_size=bs, shuffle=True)\n",
        "\n",
        "val_loader = torch.utils.data.DataLoader(\n",
        "    np.concatenate((t_val[:,None], x_val_norm),axis=1),\n",
        "    batch_size=bs, shuffle=True)\n",
        "\n",
        "test_loader = torch.utils.data.DataLoader(\n",
        "    np.concatenate((t_test[:,None], x_test_norm),axis=1),\n",
        "    batch_size=bs, shuffle=True)\n",
        "\n",
        "# reseting the model\n",
        "model_cnn2 = CNN(input_size, n_features, output_size,num_of_layers=2)\n",
        "model_cnn2.to(device)\n",
        "# training\n",
        "iters, losses, iters_sub, train_accs, valid_accs = train(model_cnn2.double(), lr=lr, momentum=momentum, max_iters=500,num_epochs=6,show_prints=True)\n",
        "# testing\n",
        "test_loss, test_acc_2, test_conf_mat = get_accuracy(model_cnn2,loader=test_loader)\n",
        "print(\"Test set: Average loss: %f, Accuracy: %.0f%%\" % (test_loss,test_acc_2)) \n",
        "bs_accs.append(test_acc_2)"
      ],
      "metadata": {
        "id": "3mTBMuBlc5E5",
        "outputId": "21670a9f-36c9-4124-85ee-d47adb109dc7",
        "colab": {
          "base_uri": "https://localhost:8080/"
        }
      },
      "execution_count": 45,
      "outputs": [
        {
          "output_type": "stream",
          "name": "stdout",
          "text": [
            "Iter 0. [Val Acc 4%] [Train Acc 5%, Loss 3.229045]\n",
            "Iter 64. [Val Acc 92%] [Train Acc 92%, Loss 0.252783]\n",
            "Iter 128. [Val Acc 100%] [Train Acc 100%, Loss 0.018475]\n",
            "Iter 153. [Val Acc 100%] [Train Acc 100%, Loss 0.005797]\n",
            "Iter 217. [Val Acc 100%] [Train Acc 100%, Loss 0.001172]\n",
            "Iter 281. [Val Acc 100%] [Train Acc 100%, Loss 0.000595]\n",
            "Iter 306. [Val Acc 100%] [Train Acc 100%, Loss 0.000480]\n",
            "Iter 370. [Val Acc 100%] [Train Acc 100%, Loss 0.000350]\n",
            "Iter 434. [Val Acc 100%] [Train Acc 100%, Loss 0.000271]\n",
            "Iter 459. [Val Acc 100%] [Train Acc 100%, Loss 0.000262]\n",
            "Test set: Average loss: 0.443476, Accuracy: 91%\n"
          ]
        }
      ]
    },
    {
      "cell_type": "markdown",
      "source": [
        "We plot the learning curves: the training loss curve and the training and validation accuracies curves."
      ],
      "metadata": {
        "id": "vWjaLQl_2Ly0"
      }
    },
    {
      "cell_type": "code",
      "source": [
        "def plot_learning_curve(iters, losses, iters_sub, train_accs, val_accs):\n",
        "    \"\"\"\n",
        "    Plot the learning curve.\n",
        "    \"\"\"\n",
        "    plt.title(\"Learning Curve: Loss per Iteration\")\n",
        "    plt.plot(iters, losses, label=\"Train\")\n",
        "    plt.xlabel(\"Iterations\")\n",
        "    plt.ylabel(\"Loss\")\n",
        "    plt.show()\n",
        "\n",
        "    plt.title(\"Learning Curve: Accuracy per Iteration\")\n",
        "    plt.plot(iters_sub, train_accs, label=\"Train\")\n",
        "    plt.plot(iters_sub, val_accs, label=\"Validation\")\n",
        "    plt.xlabel(\"Iterations\")\n",
        "    plt.ylabel(\"Accuracy\")\n",
        "    plt.legend(loc='best')\n",
        "    plt.show()"
      ],
      "metadata": {
        "id": "SQ81JL_3YJ0C"
      },
      "execution_count": 46,
      "outputs": []
    },
    {
      "cell_type": "code",
      "source": [
        "plot_learning_curve(iters, losses, iters_sub, train_accs, valid_accs)"
      ],
      "metadata": {
        "colab": {
          "base_uri": "https://localhost:8080/",
          "height": 573
        },
        "id": "7aGsERUtaSjZ",
        "outputId": "097ef824-f248-487b-e968-d45bbd4b1583"
      },
      "execution_count": 47,
      "outputs": [
        {
          "output_type": "display_data",
          "data": {
            "image/png": "[encoded data removed]",
            "text/plain": [
              "<Figure size 432x288 with 1 Axes>"
            ]
          },
          "metadata": {
            "needs_background": "light"
          }
        },
        {
          "output_type": "display_data",
          "data": {
            "image/png": "[encoded data removed]",
            "text/plain": [
              "<Figure size 432x288 with 1 Axes>"
            ]
          },
          "metadata": {
            "needs_background": "light"
          }
        }
      ]
    },
    {
      "cell_type": "markdown",
      "source": [
        "Displaying some of our results:"
      ],
      "metadata": {
        "id": "7porwGVmPnUA"
      }
    },
    {
      "cell_type": "code",
      "source": [
        "num_of_samples = 5\n",
        "for i in range(0,num_of_samples):\n",
        "  data = x_test_norm[i]\n",
        "  img = np.reshape(data, (28, 28)) \n",
        "  data = torch.Tensor(data).view(-1, 28*28)\n",
        "  data = data.view(-1, 1, 28, 28)\n",
        "  data = data.to(device) \n",
        "  pred = model_cnn(data.double())\n",
        "  pred = pred.data.max(1, keepdim=True)[1] # get the index of the max log-probability                                                                  \n",
        "  plt.figure(figsize=(2, 1))\n",
        "  plt.imshow(img, cmap='Greys_r')\n",
        "  plt.title(f\"True label:{alphabet_dict[int(t_test[i])]}, Predicted label: {alphabet_dict[int(pred)]}\")\n",
        "  plt.axis('off');"
      ],
      "metadata": {
        "colab": {
          "base_uri": "https://localhost:8080/",
          "height": 437
        },
        "id": "EVZ2GdC7Pk7a",
        "outputId": "2714200e-b80d-422f-dfe9-d1d7f3d063f6"
      },
      "execution_count": null,
      "outputs": [
        {
          "output_type": "display_data",
          "data": {
            "image/png": "[encoded data removed]",
            "text/plain": [
              "<Figure size 144x72 with 1 Axes>"
            ]
          },
          "metadata": {
            "needs_background": "light"
          }
        },
        {
          "output_type": "display_data",
          "data": {
            "image/png": "[encoded data removed]",
            "text/plain": [
              "<Figure size 144x72 with 1 Axes>"
            ]
          },
          "metadata": {
            "needs_background": "light"
          }
        },
        {
          "output_type": "display_data",
          "data": {
            "image/png": "[encoded data removed]",
            "text/plain": [
              "<Figure size 144x72 with 1 Axes>"
            ]
          },
          "metadata": {
            "needs_background": "light"
          }
        },
        {
          "output_type": "display_data",
          "data": {
            "image/png": "[encoded data removed]",
            "text/plain": [
              "<Figure size 144x72 with 1 Axes>"
            ]
          },
          "metadata": {
            "needs_background": "light"
          }
        },
        {
          "output_type": "display_data",
          "data": {
            "image/png": "[encoded data removed]",
            "text/plain": [
              "<Figure size 144x72 with 1 Axes>"
            ]
          },
          "metadata": {
            "needs_background": "light"
          }
        }
      ]
    },
    {
      "cell_type": "markdown",
      "source": [
        "Here, we implemented a novel network called CapsNet:"
      ],
      "metadata": {
        "id": "mWnFPOaVIavV"
      }
    },
    {
      "cell_type": "code",
      "source": [
        "# import numpy as np\n",
        "# import torch\n",
        "# import torch.nn as nn\n",
        "# import torch.nn.functional as F\n",
        "from torch.autograd import Variable\n",
        "# from torchvision import datasets, transforms\n",
        "# from capsnet import CapsNet\n",
        "# from data_loader import Dataset\n",
        "from tqdm import tqdm\n",
        "\n",
        "USE_CUDA = True if torch.cuda.is_available() else False\n",
        "BATCH_SIZE = 64\n",
        "N_EPOCHS = 10\n",
        "LEARNING_RATE = 0.01\n",
        "MOMENTUM = 0.9\n",
        "n_features = 10\n",
        "'''\n",
        "Config class to determine the parameters for capsule net\n",
        "'''\n",
        "\n",
        "class Config:\n",
        "    def __init__(self):\n",
        "        # CNN (cnn)\n",
        "        self.cnn_in_channels = 1\n",
        "        self.cnn_out_channels = 256\n",
        "        self.cnn_kernel_size = 9\n",
        "\n",
        "        # Primary Capsule (pc)\n",
        "        self.pc_num_capsules = 8\n",
        "        self.pc_in_channels = 256\n",
        "        self.pc_out_channels = 32\n",
        "        self.pc_kernel_size = 9\n",
        "        self.pc_num_routes = 32 * 6 * 6\n",
        "\n",
        "        # Digit Capsule (dc)\n",
        "        self.dc_num_capsules = 26\n",
        "        self.dc_num_routes = 32 * 6 * 6\n",
        "        self.dc_in_channels = 8\n",
        "        self.dc_out_channels = 16\n",
        "\n",
        "        # Decoder\n",
        "        self.input_width = 28\n",
        "        self.input_height = 28\n",
        "\n",
        "from torch.autograd import Variable\n",
        "\n",
        "USE_CUDA = True if torch.cuda.is_available() else False\n",
        "\n",
        "class ConvLayer(nn.Module):\n",
        "    def __init__(self, in_channels=1, out_channels=256, kernel_size=9):\n",
        "        super(ConvLayer, self).__init__()\n",
        "\n",
        "        self.conv = nn.Conv2d(in_channels=in_channels,\n",
        "                              out_channels=out_channels,\n",
        "                              kernel_size=kernel_size,\n",
        "                              stride=1\n",
        "                              )\n",
        "\n",
        "    def forward(self, x):\n",
        "        return F.relu(self.conv(x))\n",
        "\n",
        "\n",
        "class PrimaryCaps(nn.Module):\n",
        "    def __init__(self, num_capsules=8, in_channels=256, out_channels=32, kernel_size=9, num_routes=32 * 6 * 6):\n",
        "        super(PrimaryCaps, self).__init__()\n",
        "        self.num_routes = num_routes\n",
        "        self.capsules = nn.ModuleList([\n",
        "            nn.Conv2d(in_channels=in_channels, out_channels=out_channels, kernel_size=kernel_size, stride=2, padding=0)\n",
        "            for _ in range(num_capsules)])\n",
        "\n",
        "    def forward(self, x):\n",
        "        u = [capsule(x) for capsule in self.capsules]\n",
        "        u = torch.stack(u, dim=1)\n",
        "        u = u.view(x.size(0), self.num_routes, -1)\n",
        "        return self.squash(u)\n",
        "\n",
        "    def squash(self, input_tensor):\n",
        "        squared_norm = (input_tensor ** 2).sum(-1, keepdim=True)\n",
        "        output_tensor = squared_norm * input_tensor / ((1. + squared_norm) * torch.sqrt(squared_norm))\n",
        "        return output_tensor\n",
        "\n",
        "\n",
        "class DigitCaps(nn.Module):\n",
        "    def __init__(self, num_capsules=10, num_routes=32 * 6 * 6, in_channels=8, out_channels=16):\n",
        "        super(DigitCaps, self).__init__()\n",
        "\n",
        "        self.in_channels = in_channels\n",
        "        self.num_routes = num_routes\n",
        "        self.num_capsules = num_capsules\n",
        "\n",
        "        self.W = nn.Parameter(torch.randn(1, num_routes, num_capsules, out_channels, in_channels))\n",
        "\n",
        "    def forward(self, x):\n",
        "        batch_size = x.size(0)\n",
        "        x = torch.stack([x] * self.num_capsules, dim=2).unsqueeze(4)\n",
        "\n",
        "        W = torch.cat([self.W] * batch_size, dim=0)\n",
        "        u_hat = torch.matmul(W, x)\n",
        "\n",
        "        b_ij = Variable(torch.zeros(1, self.num_routes, self.num_capsules, 1))\n",
        "        if USE_CUDA:\n",
        "            b_ij = b_ij.cuda()\n",
        "\n",
        "        num_iterations = 3\n",
        "        for iteration in range(num_iterations):\n",
        "            c_ij = F.softmax(b_ij, dim=1)\n",
        "            c_ij = torch.cat([c_ij] * batch_size, dim=0).unsqueeze(4)\n",
        "\n",
        "            s_j = (c_ij * u_hat).sum(dim=1, keepdim=True)\n",
        "            v_j = self.squash(s_j)\n",
        "\n",
        "            if iteration < num_iterations - 1:\n",
        "                a_ij = torch.matmul(u_hat.transpose(3, 4), torch.cat([v_j] * self.num_routes, dim=1))\n",
        "                b_ij = b_ij + a_ij.squeeze(4).mean(dim=0, keepdim=True)\n",
        "\n",
        "        return v_j.squeeze(1)\n",
        "\n",
        "    def squash(self, input_tensor):\n",
        "        squared_norm = (input_tensor ** 2).sum(-1, keepdim=True)\n",
        "        output_tensor = squared_norm * input_tensor / ((1. + squared_norm) * torch.sqrt(squared_norm))\n",
        "        return output_tensor\n",
        "\n",
        "\n",
        "class Decoder(nn.Module):\n",
        "    def __init__(self, input_width=28, input_height=28, input_channel=1):\n",
        "        super(Decoder, self).__init__()\n",
        "        self.input_width = input_width\n",
        "        self.input_height = input_height\n",
        "        self.input_channel = input_channel\n",
        "        self.reconstraction_layers = nn.Sequential(\n",
        "            nn.Linear(16 * 26, 512),\n",
        "            nn.ReLU(inplace=True),\n",
        "            nn.Linear(512, 1024),\n",
        "            nn.ReLU(inplace=True),\n",
        "            nn.Linear(1024, self.input_height * self.input_width * self.input_channel),\n",
        "            nn.Sigmoid()\n",
        "        )\n",
        "\n",
        "    def forward(self, x, data):\n",
        "        classes = torch.sqrt((x ** 2).sum(2))\n",
        "        classes = F.softmax(classes, dim=0)\n",
        "\n",
        "        _, max_length_indices = classes.max(dim=1)\n",
        "        masked = Variable(torch.sparse.torch.eye(26))\n",
        "        if USE_CUDA:\n",
        "            masked = masked.cuda()\n",
        "        masked = masked.index_select(dim=0, index=Variable(max_length_indices.squeeze(1).data))\n",
        "        t = (x * masked[:, :, None, None]).view(x.size(0), -1)\n",
        "        reconstructions = self.reconstraction_layers(t)\n",
        "        reconstructions = reconstructions.view(-1, self.input_channel, self.input_width, self.input_height)\n",
        "        return reconstructions, masked\n",
        "\n",
        "\n",
        "class CapsNet(nn.Module):\n",
        "    def __init__(self, config=None):\n",
        "        super(CapsNet, self).__init__()\n",
        "        if config:\n",
        "            self.conv_layer = ConvLayer(config.cnn_in_channels, config.cnn_out_channels, config.cnn_kernel_size)\n",
        "            self.primary_capsules = PrimaryCaps(config.pc_num_capsules, config.pc_in_channels, config.pc_out_channels,\n",
        "                                                config.pc_kernel_size, config.pc_num_routes)\n",
        "            self.digit_capsules = DigitCaps(config.dc_num_capsules, config.dc_num_routes, config.dc_in_channels,\n",
        "                                            config.dc_out_channels)\n",
        "            self.decoder = Decoder(config.input_width, config.input_height, config.cnn_in_channels)\n",
        "        else:\n",
        "            self.conv_layer = ConvLayer()\n",
        "            self.primary_capsules = PrimaryCaps()\n",
        "            self.digit_capsules = DigitCaps()\n",
        "            self.decoder = Decoder()\n",
        "\n",
        "        self.mse_loss = nn.MSELoss()\n",
        "\n",
        "    def forward(self, data):\n",
        "        output = self.digit_capsules(self.primary_capsules(self.conv_layer(data)))\n",
        "        reconstructions, masked = self.decoder(output, data)\n",
        "        return output, reconstructions, masked\n",
        "\n",
        "    def loss(self, data, x, target, reconstructions):\n",
        "        return self.margin_loss(x, target) + self.reconstruction_loss(data, reconstructions)\n",
        "\n",
        "    def margin_loss(self, x, labels, size_average=True):\n",
        "        batch_size = x.size(0)\n",
        "\n",
        "        v_c = torch.sqrt((x ** 2).sum(dim=2, keepdim=True))\n",
        "\n",
        "        left = F.relu(0.9 - v_c).view(batch_size, -1)\n",
        "        right = F.relu(v_c - 0.1).view(batch_size, -1)\n",
        "\n",
        "        loss = labels * left + 0.5 * (1.0 - labels) * right\n",
        "        loss = loss.sum(dim=1).mean()\n",
        "\n",
        "        return loss\n",
        "\n",
        "    def reconstruction_loss(self, data, reconstructions):\n",
        "        loss = self.mse_loss(reconstructions.view(reconstructions.size(0), -1), data.view(reconstructions.size(0), -1))\n",
        "        return loss * 0.0005\n",
        "\n",
        "# def new_margin_loss(x, labels, size_average=True):\n",
        "#         batch_size = x.size(0)\n",
        "\n",
        "#         v_c = torch.sqrt((x ** 2).sum(dim=2, keepdim=True))\n",
        "\n",
        "#         left = F.relu(0.9 - v_c).view(batch_size, -1)\n",
        "#         right = F.relu(v_c - 0.1).view(batch_size, -1)\n",
        "#         loss = labels * left + 0.5 * (1.0 - labels) * right\n",
        "#         loss = loss.sum(dim=1).mean()\n",
        "\n",
        "#         return loss\n",
        "\n",
        "def train_capsnet(model, optimizer, train_loader, epoch):\n",
        "    capsule_net = model\n",
        "    capsule_net.train()\n",
        "    n_batch = len(list(enumerate(train_loader)))\n",
        "    total_loss = 0\n",
        "    for batch_id, ar in enumerate(train_loader):\n",
        "        data = ar[:,1:].type(torch.double)\n",
        "        target = ar[:,0].type(torch.int64)\n",
        "        target = torch.sparse.torch.eye(26).index_select(dim=0, index=target)\n",
        "        data, target = Variable(data), Variable(target)\n",
        "\n",
        "        data = data.view(-1, 28*28)\n",
        "        data = data.view(-1, 1, 28, 28)\n",
        "\n",
        "        if USE_CUDA:\n",
        "            data, target = data.cuda(), target.cuda()\n",
        "\n",
        "        optimizer.zero_grad()\n",
        "        output, reconstructions, masked = capsule_net(data)\n",
        "        loss = capsule_net.loss(data, output, target, reconstructions)\n",
        "        loss.backward()\n",
        "        optimizer.step()\n",
        "        correct = sum(np.argmax(masked.data.cpu().numpy(), 1) == np.argmax(target.data.cpu().numpy(), 1))\n",
        "        train_loss = loss.item()\n",
        "        total_loss += train_loss\n",
        "        if batch_id % 100 == 0:\n",
        "            current_acc, current_loss, _ = get_accuracy_capsnet(capsule_net, train_loader)\n",
        "            # tqdm.write(\n",
        "            #     \"Epoch: [{}/{}], train accuracy: {:.6f}%, loss: {:.6f}\".format(e, N_EPOCHS, valid_acc,\n",
        "            #                                                               valid_loss / len(val_loader)))\n",
        "            tqdm.write(\"Epoch: [{}/{}], Batch: [{}/{}], train accuracy: {:.6f}%, loss: {:.6f}\".format(\n",
        "                epoch,\n",
        "                N_EPOCHS,\n",
        "                batch_id + 1,\n",
        "                n_batch,\n",
        "                current_acc,\n",
        "                current_loss\n",
        "                ))\n",
        "    tqdm.write('Epoch: [{}/{}], train loss: {:.6f}'.format(epoch,N_EPOCHS,total_loss / len(train_loader.dataset)))\n",
        "\n",
        "\n",
        "def get_accuracy_capsnet(capsule_net, loader):\n",
        "    capsule_net.eval()\n",
        "    final_loss = 0\n",
        "    correct = 0\n",
        "\n",
        "    pred_list = []\n",
        "    true_list = []\n",
        "    for batch_id, ar in enumerate(loader):\n",
        "        data = ar[:,1:].type(torch.double)\n",
        "        target = ar[:,0].type(torch.int64)\n",
        "        target = torch.sparse.torch.eye(26).index_select(dim=0, index=target)\n",
        "        data, target = Variable(data), Variable(target)\n",
        "\n",
        "        data = data.view(-1, 28*28)\n",
        "        data = data.view(-1, 1, 28, 28)\n",
        "\n",
        "        if USE_CUDA:\n",
        "            data, target = data.cuda(), target.cuda()\n",
        "\n",
        "        output, reconstructions, masked = capsule_net(data)\n",
        "        loss = capsule_net.loss(data, output, target, reconstructions)\n",
        "\n",
        "        final_loss += loss.item()\n",
        "        correct += sum(np.argmax(masked.data.cpu().numpy(), 1) ==\n",
        "                       np.argmax(target.data.cpu().numpy(), 1))\n",
        "        \n",
        "        for y in np.argmax(masked.data.cpu().numpy(), 1):\n",
        "          pred_list.append(y)\n",
        "\n",
        "        for y in np.argmax(target.data.cpu().numpy(), 1):  \n",
        "          true_list.append(y)\n",
        "\n",
        "    conf_mat = confusion_matrix(true_list, pred_list, labels=list(range(0,9))+list(range(10,25)))  \n",
        "    acc = correct * 100 / len(loader.dataset)\n",
        "    \n",
        "    return acc, final_loss, conf_mat"
      ],
      "metadata": {
        "id": "SL73PRG8IZlv"
      },
      "execution_count": null,
      "outputs": []
    },
    {
      "cell_type": "code",
      "source": [
        "torch.manual_seed(1)\n",
        "config = Config()\n",
        "\n",
        "capsule_net = CapsNet(config)\n",
        "capsule_net = torch.nn.DataParallel(capsule_net)\n",
        "if USE_CUDA:\n",
        "    capsule_net = capsule_net.cuda()\n",
        "capsule_net = capsule_net.module.double()\n",
        "\n",
        "optimizer = torch.optim.Adam(capsule_net.parameters())\n",
        "# capsule_net.margin_loss = new_margin_loss\n",
        "for e in range(1, N_EPOCHS + 1):\n",
        "    train_capsnet(capsule_net, optimizer, train_loader, e)\n",
        "    valid_acc, valid_loss, _ = get_accuracy_capsnet(capsule_net, val_loader)\n",
        "    tqdm.write(\n",
        "        \"Epoch: [{}/{}], validation accuracy: {:.6f}%, loss: {:.6f}\".format(e, N_EPOCHS, valid_acc,\n",
        "                                                                  valid_loss / len(val_loader)))\n",
        "\n",
        "torch.save(capsule_net.state_dict(),  \"/content/gdrive/My Drive/Intro_to_Deep_Learning/Project/capsnet.pt\")"
      ],
      "metadata": {
        "id": "qkQTNKZgy373",
        "outputId": "1cbe7bbc-4dfa-43ec-de82-07003feac0e2",
        "colab": {
          "base_uri": "https://localhost:8080/",
          "height": 381
        }
      },
      "execution_count": null,
      "outputs": [
        {
          "output_type": "error",
          "ename": "KeyboardInterrupt",
          "evalue": "ignored",
          "traceback": [
            "\u001b[0;31m---------------------------------------------------------------------------\u001b[0m",
            "\u001b[0;31mKeyboardInterrupt\u001b[0m                         Traceback (most recent call last)",
            "\u001b[0;32m<ipython-input-21-b907c61e48e3>\u001b[0m in \u001b[0;36m<module>\u001b[0;34m()\u001b[0m\n\u001b[1;32m     11\u001b[0m \u001b[0;31m# capsule_net.margin_loss = new_margin_loss\u001b[0m\u001b[0;34m\u001b[0m\u001b[0;34m\u001b[0m\u001b[0;34m\u001b[0m\u001b[0m\n\u001b[1;32m     12\u001b[0m \u001b[0;32mfor\u001b[0m \u001b[0me\u001b[0m \u001b[0;32min\u001b[0m \u001b[0mrange\u001b[0m\u001b[0;34m(\u001b[0m\u001b[0;36m1\u001b[0m\u001b[0;34m,\u001b[0m \u001b[0mN_EPOCHS\u001b[0m \u001b[0;34m+\u001b[0m \u001b[0;36m1\u001b[0m\u001b[0;34m)\u001b[0m\u001b[0;34m:\u001b[0m\u001b[0;34m\u001b[0m\u001b[0;34m\u001b[0m\u001b[0m\n\u001b[0;32m---> 13\u001b[0;31m     \u001b[0mtrain_capsnet\u001b[0m\u001b[0;34m(\u001b[0m\u001b[0mcapsule_net\u001b[0m\u001b[0;34m,\u001b[0m \u001b[0moptimizer\u001b[0m\u001b[0;34m,\u001b[0m \u001b[0mtrain_loader\u001b[0m\u001b[0;34m,\u001b[0m \u001b[0me\u001b[0m\u001b[0;34m)\u001b[0m\u001b[0;34m\u001b[0m\u001b[0;34m\u001b[0m\u001b[0m\n\u001b[0m\u001b[1;32m     14\u001b[0m     \u001b[0mvalid_acc\u001b[0m\u001b[0;34m,\u001b[0m \u001b[0mvalid_loss\u001b[0m\u001b[0;34m,\u001b[0m \u001b[0m_\u001b[0m \u001b[0;34m=\u001b[0m \u001b[0mget_accuracy_capsnet\u001b[0m\u001b[0;34m(\u001b[0m\u001b[0mcapsule_net\u001b[0m\u001b[0;34m,\u001b[0m \u001b[0mval_loader\u001b[0m\u001b[0;34m)\u001b[0m\u001b[0;34m\u001b[0m\u001b[0;34m\u001b[0m\u001b[0m\n\u001b[1;32m     15\u001b[0m     tqdm.write(\n",
            "\u001b[0;32m<ipython-input-16-d050ddedeb1f>\u001b[0m in \u001b[0;36mtrain_capsnet\u001b[0;34m(model, optimizer, train_loader, epoch)\u001b[0m\n\u001b[1;32m    233\u001b[0m         \u001b[0mtotal_loss\u001b[0m \u001b[0;34m+=\u001b[0m \u001b[0mtrain_loss\u001b[0m\u001b[0;34m\u001b[0m\u001b[0;34m\u001b[0m\u001b[0m\n\u001b[1;32m    234\u001b[0m         \u001b[0;32mif\u001b[0m \u001b[0mbatch_id\u001b[0m \u001b[0;34m%\u001b[0m \u001b[0;36m100\u001b[0m \u001b[0;34m==\u001b[0m \u001b[0;36m0\u001b[0m\u001b[0;34m:\u001b[0m\u001b[0;34m\u001b[0m\u001b[0;34m\u001b[0m\u001b[0m\n\u001b[0;32m--> 235\u001b[0;31m             \u001b[0mcurrent_acc\u001b[0m\u001b[0;34m,\u001b[0m \u001b[0mcurrent_loss\u001b[0m\u001b[0;34m,\u001b[0m \u001b[0m_\u001b[0m \u001b[0;34m=\u001b[0m \u001b[0mget_accuracy_capsnet\u001b[0m\u001b[0;34m(\u001b[0m\u001b[0mcapsule_net\u001b[0m\u001b[0;34m,\u001b[0m \u001b[0mtrain_loader\u001b[0m\u001b[0;34m)\u001b[0m\u001b[0;34m\u001b[0m\u001b[0;34m\u001b[0m\u001b[0m\n\u001b[0m\u001b[1;32m    236\u001b[0m             \u001b[0;31m# tqdm.write(\u001b[0m\u001b[0;34m\u001b[0m\u001b[0;34m\u001b[0m\u001b[0;34m\u001b[0m\u001b[0m\n\u001b[1;32m    237\u001b[0m             \u001b[0;31m#     \"Epoch: [{}/{}], train accuracy: {:.6f}%, loss: {:.6f}\".format(e, N_EPOCHS, valid_acc,\u001b[0m\u001b[0;34m\u001b[0m\u001b[0;34m\u001b[0m\u001b[0;34m\u001b[0m\u001b[0m\n",
            "\u001b[0;32m<ipython-input-16-d050ddedeb1f>\u001b[0m in \u001b[0;36mget_accuracy_capsnet\u001b[0;34m(capsule_net, loader)\u001b[0m\n\u001b[1;32m    267\u001b[0m             \u001b[0mdata\u001b[0m\u001b[0;34m,\u001b[0m \u001b[0mtarget\u001b[0m \u001b[0;34m=\u001b[0m \u001b[0mdata\u001b[0m\u001b[0;34m.\u001b[0m\u001b[0mcuda\u001b[0m\u001b[0;34m(\u001b[0m\u001b[0;34m)\u001b[0m\u001b[0;34m,\u001b[0m \u001b[0mtarget\u001b[0m\u001b[0;34m.\u001b[0m\u001b[0mcuda\u001b[0m\u001b[0;34m(\u001b[0m\u001b[0;34m)\u001b[0m\u001b[0;34m\u001b[0m\u001b[0;34m\u001b[0m\u001b[0m\n\u001b[1;32m    268\u001b[0m \u001b[0;34m\u001b[0m\u001b[0m\n\u001b[0;32m--> 269\u001b[0;31m         \u001b[0moutput\u001b[0m\u001b[0;34m,\u001b[0m \u001b[0mreconstructions\u001b[0m\u001b[0;34m,\u001b[0m \u001b[0mmasked\u001b[0m \u001b[0;34m=\u001b[0m \u001b[0mcapsule_net\u001b[0m\u001b[0;34m(\u001b[0m\u001b[0mdata\u001b[0m\u001b[0;34m)\u001b[0m\u001b[0;34m\u001b[0m\u001b[0;34m\u001b[0m\u001b[0m\n\u001b[0m\u001b[1;32m    270\u001b[0m         \u001b[0mloss\u001b[0m \u001b[0;34m=\u001b[0m \u001b[0mcapsule_net\u001b[0m\u001b[0;34m.\u001b[0m\u001b[0mloss\u001b[0m\u001b[0;34m(\u001b[0m\u001b[0mdata\u001b[0m\u001b[0;34m,\u001b[0m \u001b[0moutput\u001b[0m\u001b[0;34m,\u001b[0m \u001b[0mtarget\u001b[0m\u001b[0;34m,\u001b[0m \u001b[0mreconstructions\u001b[0m\u001b[0;34m)\u001b[0m\u001b[0;34m\u001b[0m\u001b[0;34m\u001b[0m\u001b[0m\n\u001b[1;32m    271\u001b[0m \u001b[0;34m\u001b[0m\u001b[0m\n",
            "\u001b[0;32m/usr/local/lib/python3.7/dist-packages/torch/nn/modules/module.py\u001b[0m in \u001b[0;36m_call_impl\u001b[0;34m(self, *input, **kwargs)\u001b[0m\n\u001b[1;32m   1100\u001b[0m         if not (self._backward_hooks or self._forward_hooks or self._forward_pre_hooks or _global_backward_hooks\n\u001b[1;32m   1101\u001b[0m                 or _global_forward_hooks or _global_forward_pre_hooks):\n\u001b[0;32m-> 1102\u001b[0;31m             \u001b[0;32mreturn\u001b[0m \u001b[0mforward_call\u001b[0m\u001b[0;34m(\u001b[0m\u001b[0;34m*\u001b[0m\u001b[0minput\u001b[0m\u001b[0;34m,\u001b[0m \u001b[0;34m**\u001b[0m\u001b[0mkwargs\u001b[0m\u001b[0;34m)\u001b[0m\u001b[0;34m\u001b[0m\u001b[0;34m\u001b[0m\u001b[0m\n\u001b[0m\u001b[1;32m   1103\u001b[0m         \u001b[0;31m# Do not call functions when jit is used\u001b[0m\u001b[0;34m\u001b[0m\u001b[0;34m\u001b[0m\u001b[0;34m\u001b[0m\u001b[0m\n\u001b[1;32m   1104\u001b[0m         \u001b[0mfull_backward_hooks\u001b[0m\u001b[0;34m,\u001b[0m \u001b[0mnon_full_backward_hooks\u001b[0m \u001b[0;34m=\u001b[0m \u001b[0;34m[\u001b[0m\u001b[0;34m]\u001b[0m\u001b[0;34m,\u001b[0m \u001b[0;34m[\u001b[0m\u001b[0;34m]\u001b[0m\u001b[0;34m\u001b[0m\u001b[0;34m\u001b[0m\u001b[0m\n",
            "\u001b[0;32m<ipython-input-16-d050ddedeb1f>\u001b[0m in \u001b[0;36mforward\u001b[0;34m(self, data)\u001b[0m\n\u001b[1;32m    171\u001b[0m \u001b[0;34m\u001b[0m\u001b[0m\n\u001b[1;32m    172\u001b[0m     \u001b[0;32mdef\u001b[0m \u001b[0mforward\u001b[0m\u001b[0;34m(\u001b[0m\u001b[0mself\u001b[0m\u001b[0;34m,\u001b[0m \u001b[0mdata\u001b[0m\u001b[0;34m)\u001b[0m\u001b[0;34m:\u001b[0m\u001b[0;34m\u001b[0m\u001b[0;34m\u001b[0m\u001b[0m\n\u001b[0;32m--> 173\u001b[0;31m         \u001b[0moutput\u001b[0m \u001b[0;34m=\u001b[0m \u001b[0mself\u001b[0m\u001b[0;34m.\u001b[0m\u001b[0mdigit_capsules\u001b[0m\u001b[0;34m(\u001b[0m\u001b[0mself\u001b[0m\u001b[0;34m.\u001b[0m\u001b[0mprimary_capsules\u001b[0m\u001b[0;34m(\u001b[0m\u001b[0mself\u001b[0m\u001b[0;34m.\u001b[0m\u001b[0mconv_layer\u001b[0m\u001b[0;34m(\u001b[0m\u001b[0mdata\u001b[0m\u001b[0;34m)\u001b[0m\u001b[0;34m)\u001b[0m\u001b[0;34m)\u001b[0m\u001b[0;34m\u001b[0m\u001b[0;34m\u001b[0m\u001b[0m\n\u001b[0m\u001b[1;32m    174\u001b[0m         \u001b[0mreconstructions\u001b[0m\u001b[0;34m,\u001b[0m \u001b[0mmasked\u001b[0m \u001b[0;34m=\u001b[0m \u001b[0mself\u001b[0m\u001b[0;34m.\u001b[0m\u001b[0mdecoder\u001b[0m\u001b[0;34m(\u001b[0m\u001b[0moutput\u001b[0m\u001b[0;34m,\u001b[0m \u001b[0mdata\u001b[0m\u001b[0;34m)\u001b[0m\u001b[0;34m\u001b[0m\u001b[0;34m\u001b[0m\u001b[0m\n\u001b[1;32m    175\u001b[0m         \u001b[0;32mreturn\u001b[0m \u001b[0moutput\u001b[0m\u001b[0;34m,\u001b[0m \u001b[0mreconstructions\u001b[0m\u001b[0;34m,\u001b[0m \u001b[0mmasked\u001b[0m\u001b[0;34m\u001b[0m\u001b[0;34m\u001b[0m\u001b[0m\n",
            "\u001b[0;32m/usr/local/lib/python3.7/dist-packages/torch/nn/modules/module.py\u001b[0m in \u001b[0;36m_call_impl\u001b[0;34m(self, *input, **kwargs)\u001b[0m\n\u001b[1;32m   1100\u001b[0m         if not (self._backward_hooks or self._forward_hooks or self._forward_pre_hooks or _global_backward_hooks\n\u001b[1;32m   1101\u001b[0m                 or _global_forward_hooks or _global_forward_pre_hooks):\n\u001b[0;32m-> 1102\u001b[0;31m             \u001b[0;32mreturn\u001b[0m \u001b[0mforward_call\u001b[0m\u001b[0;34m(\u001b[0m\u001b[0;34m*\u001b[0m\u001b[0minput\u001b[0m\u001b[0;34m,\u001b[0m \u001b[0;34m**\u001b[0m\u001b[0mkwargs\u001b[0m\u001b[0;34m)\u001b[0m\u001b[0;34m\u001b[0m\u001b[0;34m\u001b[0m\u001b[0m\n\u001b[0m\u001b[1;32m   1103\u001b[0m         \u001b[0;31m# Do not call functions when jit is used\u001b[0m\u001b[0;34m\u001b[0m\u001b[0;34m\u001b[0m\u001b[0;34m\u001b[0m\u001b[0m\n\u001b[1;32m   1104\u001b[0m         \u001b[0mfull_backward_hooks\u001b[0m\u001b[0;34m,\u001b[0m \u001b[0mnon_full_backward_hooks\u001b[0m \u001b[0;34m=\u001b[0m \u001b[0;34m[\u001b[0m\u001b[0;34m]\u001b[0m\u001b[0;34m,\u001b[0m \u001b[0;34m[\u001b[0m\u001b[0;34m]\u001b[0m\u001b[0;34m\u001b[0m\u001b[0;34m\u001b[0m\u001b[0m\n",
            "\u001b[0;32m<ipython-input-16-d050ddedeb1f>\u001b[0m in \u001b[0;36mforward\u001b[0;34m(self, x)\u001b[0m\n\u001b[1;32m    108\u001b[0m \u001b[0;34m\u001b[0m\u001b[0m\n\u001b[1;32m    109\u001b[0m             \u001b[0ms_j\u001b[0m \u001b[0;34m=\u001b[0m \u001b[0;34m(\u001b[0m\u001b[0mc_ij\u001b[0m \u001b[0;34m*\u001b[0m \u001b[0mu_hat\u001b[0m\u001b[0;34m)\u001b[0m\u001b[0;34m.\u001b[0m\u001b[0msum\u001b[0m\u001b[0;34m(\u001b[0m\u001b[0mdim\u001b[0m\u001b[0;34m=\u001b[0m\u001b[0;36m1\u001b[0m\u001b[0;34m,\u001b[0m \u001b[0mkeepdim\u001b[0m\u001b[0;34m=\u001b[0m\u001b[0;32mTrue\u001b[0m\u001b[0;34m)\u001b[0m\u001b[0;34m\u001b[0m\u001b[0;34m\u001b[0m\u001b[0m\n\u001b[0;32m--> 110\u001b[0;31m             \u001b[0mv_j\u001b[0m \u001b[0;34m=\u001b[0m \u001b[0mself\u001b[0m\u001b[0;34m.\u001b[0m\u001b[0msquash\u001b[0m\u001b[0;34m(\u001b[0m\u001b[0ms_j\u001b[0m\u001b[0;34m)\u001b[0m\u001b[0;34m\u001b[0m\u001b[0;34m\u001b[0m\u001b[0m\n\u001b[0m\u001b[1;32m    111\u001b[0m \u001b[0;34m\u001b[0m\u001b[0m\n\u001b[1;32m    112\u001b[0m             \u001b[0;32mif\u001b[0m \u001b[0miteration\u001b[0m \u001b[0;34m<\u001b[0m \u001b[0mnum_iterations\u001b[0m \u001b[0;34m-\u001b[0m \u001b[0;36m1\u001b[0m\u001b[0;34m:\u001b[0m\u001b[0;34m\u001b[0m\u001b[0;34m\u001b[0m\u001b[0m\n",
            "\u001b[0;32m<ipython-input-16-d050ddedeb1f>\u001b[0m in \u001b[0;36msquash\u001b[0;34m(self, input_tensor)\u001b[0m\n\u001b[1;32m    117\u001b[0m \u001b[0;34m\u001b[0m\u001b[0m\n\u001b[1;32m    118\u001b[0m     \u001b[0;32mdef\u001b[0m \u001b[0msquash\u001b[0m\u001b[0;34m(\u001b[0m\u001b[0mself\u001b[0m\u001b[0;34m,\u001b[0m \u001b[0minput_tensor\u001b[0m\u001b[0;34m)\u001b[0m\u001b[0;34m:\u001b[0m\u001b[0;34m\u001b[0m\u001b[0;34m\u001b[0m\u001b[0m\n\u001b[0;32m--> 119\u001b[0;31m         \u001b[0msquared_norm\u001b[0m \u001b[0;34m=\u001b[0m \u001b[0;34m(\u001b[0m\u001b[0minput_tensor\u001b[0m \u001b[0;34m**\u001b[0m \u001b[0;36m2\u001b[0m\u001b[0;34m)\u001b[0m\u001b[0;34m.\u001b[0m\u001b[0msum\u001b[0m\u001b[0;34m(\u001b[0m\u001b[0;34m-\u001b[0m\u001b[0;36m1\u001b[0m\u001b[0;34m,\u001b[0m \u001b[0mkeepdim\u001b[0m\u001b[0;34m=\u001b[0m\u001b[0;32mTrue\u001b[0m\u001b[0;34m)\u001b[0m\u001b[0;34m\u001b[0m\u001b[0;34m\u001b[0m\u001b[0m\n\u001b[0m\u001b[1;32m    120\u001b[0m         \u001b[0moutput_tensor\u001b[0m \u001b[0;34m=\u001b[0m \u001b[0msquared_norm\u001b[0m \u001b[0;34m*\u001b[0m \u001b[0minput_tensor\u001b[0m \u001b[0;34m/\u001b[0m \u001b[0;34m(\u001b[0m\u001b[0;34m(\u001b[0m\u001b[0;36m1.\u001b[0m \u001b[0;34m+\u001b[0m \u001b[0msquared_norm\u001b[0m\u001b[0;34m)\u001b[0m \u001b[0;34m*\u001b[0m \u001b[0mtorch\u001b[0m\u001b[0;34m.\u001b[0m\u001b[0msqrt\u001b[0m\u001b[0;34m(\u001b[0m\u001b[0msquared_norm\u001b[0m\u001b[0;34m)\u001b[0m\u001b[0;34m)\u001b[0m\u001b[0;34m\u001b[0m\u001b[0;34m\u001b[0m\u001b[0m\n\u001b[1;32m    121\u001b[0m         \u001b[0;32mreturn\u001b[0m \u001b[0moutput_tensor\u001b[0m\u001b[0;34m\u001b[0m\u001b[0;34m\u001b[0m\u001b[0m\n",
            "\u001b[0;31mKeyboardInterrupt\u001b[0m: "
          ]
        }
      ]
    },
    {
      "cell_type": "code",
      "source": [
        "from datetime import datetime\n",
        "\n",
        "now = datetime.now() \n",
        "dt_string = now.strftime(\"%d_%m_%Y_%H_%M_%S\")\n",
        "\n",
        "# torch.save(capsule_net.state_dict(),  \"/content/gdrive/My Drive/Intro_to_Deep_Learning/Project/capsnet_\" + dt_string + \".pt\")\n",
        "capsule_net.load_state_dict(torch.load('/content/gdrive/My Drive/Intro_to_Deep_Learning/Project/capsnet_07_01_2022_13_50_36.pt'))"
      ],
      "metadata": {
        "id": "jykfmImpvLDV",
        "colab": {
          "base_uri": "https://localhost:8080/"
        },
        "outputId": "94bd334c-3b4a-420c-9262-49c9129bbb3a"
      },
      "execution_count": null,
      "outputs": [
        {
          "output_type": "execute_result",
          "data": {
            "text/plain": [
              "<All keys matched successfully>"
            ]
          },
          "metadata": {},
          "execution_count": 25
        }
      ]
    },
    {
      "cell_type": "code",
      "source": [
        "test_acc, test_loss, test_conf_mat = get_accuracy_capsnet(capsule_net, test_loader)\n",
        "tqdm.write(\n",
        "    \"test accuracy: {:.6f}%, loss: {:.6f}\".format(test_acc, test_loss / len(test_loader)))\n",
        "show_confusion_matrix(test_conf_mat)"
      ],
      "metadata": {
        "colab": {
          "base_uri": "https://localhost:8080/",
          "height": 398
        },
        "id": "jntWwfcqvMCi",
        "outputId": "d80d918b-ded0-4091-cb71-c1c71773c82c"
      },
      "execution_count": null,
      "outputs": [
        {
          "output_type": "error",
          "ename": "RuntimeError",
          "evalue": "ignored",
          "traceback": [
            "\u001b[0;31m---------------------------------------------------------------------------\u001b[0m",
            "\u001b[0;31mRuntimeError\u001b[0m                              Traceback (most recent call last)",
            "\u001b[0;32m<ipython-input-27-1a34e564f06b>\u001b[0m in \u001b[0;36m<module>\u001b[0;34m()\u001b[0m\n\u001b[0;32m----> 1\u001b[0;31m \u001b[0mtest_acc\u001b[0m\u001b[0;34m,\u001b[0m \u001b[0mtest_loss\u001b[0m\u001b[0;34m,\u001b[0m \u001b[0mtest_conf_mat\u001b[0m \u001b[0;34m=\u001b[0m \u001b[0mget_accuracy_capsnet\u001b[0m\u001b[0;34m(\u001b[0m\u001b[0mcapsule_net\u001b[0m\u001b[0;34m,\u001b[0m \u001b[0mtest_loader\u001b[0m\u001b[0;34m)\u001b[0m\u001b[0;34m\u001b[0m\u001b[0;34m\u001b[0m\u001b[0m\n\u001b[0m\u001b[1;32m      2\u001b[0m tqdm.write(\n\u001b[1;32m      3\u001b[0m     \"test accuracy: {:.6f}%, loss: {:.6f}\".format(test_acc, test_loss / len(test_loader)))\n\u001b[1;32m      4\u001b[0m \u001b[0mshow_confusion_matrix\u001b[0m\u001b[0;34m(\u001b[0m\u001b[0mtest_conf_mat\u001b[0m\u001b[0;34m)\u001b[0m\u001b[0;34m\u001b[0m\u001b[0;34m\u001b[0m\u001b[0m\n",
            "\u001b[0;32m<ipython-input-16-d050ddedeb1f>\u001b[0m in \u001b[0;36mget_accuracy_capsnet\u001b[0;34m(capsule_net, loader)\u001b[0m\n\u001b[1;32m    267\u001b[0m             \u001b[0mdata\u001b[0m\u001b[0;34m,\u001b[0m \u001b[0mtarget\u001b[0m \u001b[0;34m=\u001b[0m \u001b[0mdata\u001b[0m\u001b[0;34m.\u001b[0m\u001b[0mcuda\u001b[0m\u001b[0;34m(\u001b[0m\u001b[0;34m)\u001b[0m\u001b[0;34m,\u001b[0m \u001b[0mtarget\u001b[0m\u001b[0;34m.\u001b[0m\u001b[0mcuda\u001b[0m\u001b[0;34m(\u001b[0m\u001b[0;34m)\u001b[0m\u001b[0;34m\u001b[0m\u001b[0;34m\u001b[0m\u001b[0m\n\u001b[1;32m    268\u001b[0m \u001b[0;34m\u001b[0m\u001b[0m\n\u001b[0;32m--> 269\u001b[0;31m         \u001b[0moutput\u001b[0m\u001b[0;34m,\u001b[0m \u001b[0mreconstructions\u001b[0m\u001b[0;34m,\u001b[0m \u001b[0mmasked\u001b[0m \u001b[0;34m=\u001b[0m \u001b[0mcapsule_net\u001b[0m\u001b[0;34m(\u001b[0m\u001b[0mdata\u001b[0m\u001b[0;34m)\u001b[0m\u001b[0;34m\u001b[0m\u001b[0;34m\u001b[0m\u001b[0m\n\u001b[0m\u001b[1;32m    270\u001b[0m         \u001b[0mloss\u001b[0m \u001b[0;34m=\u001b[0m \u001b[0mcapsule_net\u001b[0m\u001b[0;34m.\u001b[0m\u001b[0mloss\u001b[0m\u001b[0;34m(\u001b[0m\u001b[0mdata\u001b[0m\u001b[0;34m,\u001b[0m \u001b[0moutput\u001b[0m\u001b[0;34m,\u001b[0m \u001b[0mtarget\u001b[0m\u001b[0;34m,\u001b[0m \u001b[0mreconstructions\u001b[0m\u001b[0;34m)\u001b[0m\u001b[0;34m\u001b[0m\u001b[0;34m\u001b[0m\u001b[0m\n\u001b[1;32m    271\u001b[0m \u001b[0;34m\u001b[0m\u001b[0m\n",
            "\u001b[0;32m/usr/local/lib/python3.7/dist-packages/torch/nn/modules/module.py\u001b[0m in \u001b[0;36m_call_impl\u001b[0;34m(self, *input, **kwargs)\u001b[0m\n\u001b[1;32m   1100\u001b[0m         if not (self._backward_hooks or self._forward_hooks or self._forward_pre_hooks or _global_backward_hooks\n\u001b[1;32m   1101\u001b[0m                 or _global_forward_hooks or _global_forward_pre_hooks):\n\u001b[0;32m-> 1102\u001b[0;31m             \u001b[0;32mreturn\u001b[0m \u001b[0mforward_call\u001b[0m\u001b[0;34m(\u001b[0m\u001b[0;34m*\u001b[0m\u001b[0minput\u001b[0m\u001b[0;34m,\u001b[0m \u001b[0;34m**\u001b[0m\u001b[0mkwargs\u001b[0m\u001b[0;34m)\u001b[0m\u001b[0;34m\u001b[0m\u001b[0;34m\u001b[0m\u001b[0m\n\u001b[0m\u001b[1;32m   1103\u001b[0m         \u001b[0;31m# Do not call functions when jit is used\u001b[0m\u001b[0;34m\u001b[0m\u001b[0;34m\u001b[0m\u001b[0;34m\u001b[0m\u001b[0m\n\u001b[1;32m   1104\u001b[0m         \u001b[0mfull_backward_hooks\u001b[0m\u001b[0;34m,\u001b[0m \u001b[0mnon_full_backward_hooks\u001b[0m \u001b[0;34m=\u001b[0m \u001b[0;34m[\u001b[0m\u001b[0;34m]\u001b[0m\u001b[0;34m,\u001b[0m \u001b[0;34m[\u001b[0m\u001b[0;34m]\u001b[0m\u001b[0;34m\u001b[0m\u001b[0;34m\u001b[0m\u001b[0m\n",
            "\u001b[0;32m<ipython-input-16-d050ddedeb1f>\u001b[0m in \u001b[0;36mforward\u001b[0;34m(self, data)\u001b[0m\n\u001b[1;32m    171\u001b[0m \u001b[0;34m\u001b[0m\u001b[0m\n\u001b[1;32m    172\u001b[0m     \u001b[0;32mdef\u001b[0m \u001b[0mforward\u001b[0m\u001b[0;34m(\u001b[0m\u001b[0mself\u001b[0m\u001b[0;34m,\u001b[0m \u001b[0mdata\u001b[0m\u001b[0;34m)\u001b[0m\u001b[0;34m:\u001b[0m\u001b[0;34m\u001b[0m\u001b[0;34m\u001b[0m\u001b[0m\n\u001b[0;32m--> 173\u001b[0;31m         \u001b[0moutput\u001b[0m \u001b[0;34m=\u001b[0m \u001b[0mself\u001b[0m\u001b[0;34m.\u001b[0m\u001b[0mdigit_capsules\u001b[0m\u001b[0;34m(\u001b[0m\u001b[0mself\u001b[0m\u001b[0;34m.\u001b[0m\u001b[0mprimary_capsules\u001b[0m\u001b[0;34m(\u001b[0m\u001b[0mself\u001b[0m\u001b[0;34m.\u001b[0m\u001b[0mconv_layer\u001b[0m\u001b[0;34m(\u001b[0m\u001b[0mdata\u001b[0m\u001b[0;34m)\u001b[0m\u001b[0;34m)\u001b[0m\u001b[0;34m)\u001b[0m\u001b[0;34m\u001b[0m\u001b[0;34m\u001b[0m\u001b[0m\n\u001b[0m\u001b[1;32m    174\u001b[0m         \u001b[0mreconstructions\u001b[0m\u001b[0;34m,\u001b[0m \u001b[0mmasked\u001b[0m \u001b[0;34m=\u001b[0m \u001b[0mself\u001b[0m\u001b[0;34m.\u001b[0m\u001b[0mdecoder\u001b[0m\u001b[0;34m(\u001b[0m\u001b[0moutput\u001b[0m\u001b[0;34m,\u001b[0m \u001b[0mdata\u001b[0m\u001b[0;34m)\u001b[0m\u001b[0;34m\u001b[0m\u001b[0;34m\u001b[0m\u001b[0m\n\u001b[1;32m    175\u001b[0m         \u001b[0;32mreturn\u001b[0m \u001b[0moutput\u001b[0m\u001b[0;34m,\u001b[0m \u001b[0mreconstructions\u001b[0m\u001b[0;34m,\u001b[0m \u001b[0mmasked\u001b[0m\u001b[0;34m\u001b[0m\u001b[0;34m\u001b[0m\u001b[0m\n",
            "\u001b[0;32m/usr/local/lib/python3.7/dist-packages/torch/nn/modules/module.py\u001b[0m in \u001b[0;36m_call_impl\u001b[0;34m(self, *input, **kwargs)\u001b[0m\n\u001b[1;32m   1100\u001b[0m         if not (self._backward_hooks or self._forward_hooks or self._forward_pre_hooks or _global_backward_hooks\n\u001b[1;32m   1101\u001b[0m                 or _global_forward_hooks or _global_forward_pre_hooks):\n\u001b[0;32m-> 1102\u001b[0;31m             \u001b[0;32mreturn\u001b[0m \u001b[0mforward_call\u001b[0m\u001b[0;34m(\u001b[0m\u001b[0;34m*\u001b[0m\u001b[0minput\u001b[0m\u001b[0;34m,\u001b[0m \u001b[0;34m**\u001b[0m\u001b[0mkwargs\u001b[0m\u001b[0;34m)\u001b[0m\u001b[0;34m\u001b[0m\u001b[0;34m\u001b[0m\u001b[0m\n\u001b[0m\u001b[1;32m   1103\u001b[0m         \u001b[0;31m# Do not call functions when jit is used\u001b[0m\u001b[0;34m\u001b[0m\u001b[0;34m\u001b[0m\u001b[0;34m\u001b[0m\u001b[0m\n\u001b[1;32m   1104\u001b[0m         \u001b[0mfull_backward_hooks\u001b[0m\u001b[0;34m,\u001b[0m \u001b[0mnon_full_backward_hooks\u001b[0m \u001b[0;34m=\u001b[0m \u001b[0;34m[\u001b[0m\u001b[0;34m]\u001b[0m\u001b[0;34m,\u001b[0m \u001b[0;34m[\u001b[0m\u001b[0;34m]\u001b[0m\u001b[0;34m\u001b[0m\u001b[0;34m\u001b[0m\u001b[0m\n",
            "\u001b[0;32m<ipython-input-16-d050ddedeb1f>\u001b[0m in \u001b[0;36mforward\u001b[0;34m(self, x)\u001b[0m\n\u001b[1;32m     95\u001b[0m         \u001b[0mx\u001b[0m \u001b[0;34m=\u001b[0m \u001b[0mtorch\u001b[0m\u001b[0;34m.\u001b[0m\u001b[0mstack\u001b[0m\u001b[0;34m(\u001b[0m\u001b[0;34m[\u001b[0m\u001b[0mx\u001b[0m\u001b[0;34m]\u001b[0m \u001b[0;34m*\u001b[0m \u001b[0mself\u001b[0m\u001b[0;34m.\u001b[0m\u001b[0mnum_capsules\u001b[0m\u001b[0;34m,\u001b[0m \u001b[0mdim\u001b[0m\u001b[0;34m=\u001b[0m\u001b[0;36m2\u001b[0m\u001b[0;34m)\u001b[0m\u001b[0;34m.\u001b[0m\u001b[0munsqueeze\u001b[0m\u001b[0;34m(\u001b[0m\u001b[0;36m4\u001b[0m\u001b[0;34m)\u001b[0m\u001b[0;34m\u001b[0m\u001b[0;34m\u001b[0m\u001b[0m\n\u001b[1;32m     96\u001b[0m \u001b[0;34m\u001b[0m\u001b[0m\n\u001b[0;32m---> 97\u001b[0;31m         \u001b[0mW\u001b[0m \u001b[0;34m=\u001b[0m \u001b[0mtorch\u001b[0m\u001b[0;34m.\u001b[0m\u001b[0mcat\u001b[0m\u001b[0;34m(\u001b[0m\u001b[0;34m[\u001b[0m\u001b[0mself\u001b[0m\u001b[0;34m.\u001b[0m\u001b[0mW\u001b[0m\u001b[0;34m]\u001b[0m \u001b[0;34m*\u001b[0m \u001b[0mbatch_size\u001b[0m\u001b[0;34m,\u001b[0m \u001b[0mdim\u001b[0m\u001b[0;34m=\u001b[0m\u001b[0;36m0\u001b[0m\u001b[0;34m)\u001b[0m\u001b[0;34m\u001b[0m\u001b[0;34m\u001b[0m\u001b[0m\n\u001b[0m\u001b[1;32m     98\u001b[0m         \u001b[0mu_hat\u001b[0m \u001b[0;34m=\u001b[0m \u001b[0mtorch\u001b[0m\u001b[0;34m.\u001b[0m\u001b[0mmatmul\u001b[0m\u001b[0;34m(\u001b[0m\u001b[0mW\u001b[0m\u001b[0;34m,\u001b[0m \u001b[0mx\u001b[0m\u001b[0;34m)\u001b[0m\u001b[0;34m\u001b[0m\u001b[0;34m\u001b[0m\u001b[0m\n\u001b[1;32m     99\u001b[0m \u001b[0;34m\u001b[0m\u001b[0m\n",
            "\u001b[0;31mRuntimeError\u001b[0m: CUDA out of memory. Tried to allocate 1.83 GiB (GPU 0; 11.17 GiB total capacity; 8.92 GiB already allocated; 1.63 GiB free; 9.00 GiB reserved in total by PyTorch) If reserved memory is >> allocated memory try setting max_split_size_mb to avoid fragmentation.  See documentation for Memory Management and PYTORCH_CUDA_ALLOC_CONF"
          ]
        }
      ]
    }
  ]
}