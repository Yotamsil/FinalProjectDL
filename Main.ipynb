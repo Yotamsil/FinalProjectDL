{
  "nbformat": 4,
  "nbformat_minor": 0,
  "metadata": {
    "colab": {
      "name": "Main.ipynb",
      "provenance": [],
      "collapsed_sections": []
    },
    "language_info": {
      "name": "python"
    },
    "kernelspec": {
      "name": "python3",
      "display_name": "Python 3"
    }
  },
  "cells": [
    {
      "cell_type": "markdown",
      "metadata": {
        "id": "Cx3i2Op-6X5n"
      },
      "source": [
        "# **Introduction to Deep Learning: Final Project**\n",
        "\n",
        "**Submitted by:**\n",
        "\n",
        "Roei Matz       205871478\n",
        "\n",
        "Yotam Silverman 313532418"
      ]
    },
    {
      "cell_type": "markdown",
      "metadata": {
        "id": "s4Ki8M-pCmgF"
      },
      "source": [
        "# Project Description\n",
        "\n",
        "The data for this project was gathered from the [sign language MNIST](https://www.kaggle.com/datamunge/sign-language-mnist) dataset from the website kaggle.com.\n",
        "\n",
        "\n",
        "The dataset format is patterned to match closely with the classic MNIST. Each training and test case represents a label (0-25) as a one-to-one map for each alphabetic letter A-Z (and no cases for 9=J or 25=Z because of gesture motions). The training data (27,455 cases) and test data (7172 cases) are approximately half the size of the standard MNIST but otherwise similar with a header row of label, pixel1,pixel2….pixel784 which represent a single 28x28 pixel image with grayscale values between 0-255.\n",
        "\n",
        "Our project's objective is to design and build a neural network that will identify the letters given in each image."
      ]
    },
    {
      "cell_type": "code",
      "metadata": {
        "id": "2zdEvcdO6X5s",
        "outputId": "bc7df28b-32c0-4b27-b96f-15231eddef1c",
        "colab": {
          "base_uri": "https://localhost:8080/"
        }
      },
      "source": [
        "import pandas\n",
        "import numpy as np\n",
        "import matplotlib.pyplot as plt\n",
        "import collections\n",
        "\n",
        "import torch\n",
        "import torch.nn as nn\n",
        "import torch.nn.functional as F\n",
        "import torch.optim as optim\n",
        "\n",
        "from torchvision import datasets, transforms\n",
        "\n",
        "# CapsNet related imports\n",
        "# clone package repository\n",
        "!git clone https://github.com/XifengGuo/CapsNet-Keras.git\n",
        "\n",
        "# navigate to atalaia directory\n",
        "%cd capsnet-keras\n",
        "\n",
        "# get modifications made on the repo\n",
        "!git pull origin master\n",
        "\n",
        "# install package\n",
        "!python setup.py install\n",
        "\n",
        "# import it\n",
        "import tensorflow as tf\n",
        "import keras\n",
        "import keras.backend as K\n",
        "\n",
        "from capsulelayers import CapsuleLayer, PrimaryCap, Length, Mask\n",
        "from keras import layers, models, optimizers\n",
        "from keras.preprocessing.image import ImageDataGenerator\n",
        "#\n",
        "\n",
        "import torch.optim as optim\n",
        "\n",
        "import matplotlib.pyplot as plt\n",
        "\n",
        "device = torch.device(\"cuda:0\" if torch.cuda.is_available() else \"cpu\") "
      ],
      "execution_count": 15,
      "outputs": [
        {
          "output_type": "stream",
          "name": "stdout",
          "text": [
            "Cloning into 'CapsNet-Keras'...\n",
            "remote: Enumerating objects: 235, done.\u001b[K\n",
            "remote: Total 235 (delta 0), reused 0 (delta 0), pack-reused 235\u001b[K\n",
            "Receiving objects: 100% (235/235), 1.06 MiB | 12.83 MiB/s, done.\n",
            "Resolving deltas: 100% (117/117), done.\n",
            "[Errno 2] No such file or directory: 'capsnet-keras'\n",
            "/content/capsnet-keras\n",
            "From https://github.com/XifengGuo/CapsNet-Keras\n",
            " * branch            master     -> FETCH_HEAD\n",
            "Already up to date.\n",
            "python3: can't open file 'setup.py': [Errno 2] No such file or directory\n"
          ]
        }
      ]
    },
    {
      "cell_type": "markdown",
      "metadata": {
        "id": "70FvfUt8E0aX"
      },
      "source": [
        "Mount Google Drive and load the project's data:"
      ]
    },
    {
      "cell_type": "code",
      "metadata": {
        "colab": {
          "base_uri": "https://localhost:8080/"
        },
        "id": "PRlPFrSaEoJi",
        "outputId": "0df36d1d-058a-4f84-8ca1-1c95141817c3"
      },
      "source": [
        "from google.colab import drive\n",
        "drive.mount('/content/gdrive')\n",
        "train_csv = open('/content/gdrive/My Drive/DL/sign_mnist_train.csv')\n",
        "test_csv  = open('/content/gdrive/My Drive/DL/sign_mnist_test.csv')\n",
        "x_train = np.genfromtxt(train_csv, delimiter=',')[1:,1:]\n",
        "x_test = np.genfromtxt(test_csv, delimiter=',')[1:,1:]\n",
        "\n",
        "train_csv = open('/content/gdrive/My Drive/DL/sign_mnist_train.csv')\n",
        "test_csv  = open('/content/gdrive/My Drive/DL/sign_mnist_test.csv')\n",
        "t_train = np.genfromtxt(train_csv, delimiter=',')[1:,0]\n",
        "t_test =  np.genfromtxt(test_csv, delimiter=',')[1:,0]\n"
      ],
      "execution_count": 2,
      "outputs": [
        {
          "output_type": "stream",
          "name": "stdout",
          "text": [
            "Mounted at /content/gdrive\n"
          ]
        }
      ]
    },
    {
      "cell_type": "markdown",
      "metadata": {
        "id": "qo6PrBdGsC4M"
      },
      "source": [
        "Here we show few examples of the letters notions in the sign language:"
      ]
    },
    {
      "cell_type": "code",
      "metadata": {
        "colab": {
          "base_uri": "https://localhost:8080/",
          "height": 89
        },
        "id": "PzC3fRTiKEZn",
        "outputId": "9c0ce625-bdd0-4b6c-e994-2cc0573ffeff"
      },
      "source": [
        "i = 0\n",
        "plt.figure(figsize=(6, 3))\n",
        "for img in x_train: \n",
        "  plt.subplot(1, 5, i + 1)\n",
        "  img = np.reshape(img, (28, 28))\n",
        "  plt.imshow(img, cmap='Greys_r')\n",
        "  plt.axis('off');\n",
        "  i += 1\n",
        "  if i == 5:\n",
        "    break"
      ],
      "execution_count": 3,
      "outputs": [
        {
          "output_type": "display_data",
          "data": {
            "image/png": "[encoded data removed]",
            "text/plain": [
              "<Figure size 432x216 with 5 Axes>"
            ]
          },
          "metadata": {
            "needs_background": "light"
          }
        }
      ]
    },
    {
      "cell_type": "markdown",
      "metadata": {
        "id": "x8AVb_qUFJIG"
      },
      "source": [
        "Normalizing the data set:"
      ]
    },
    {
      "cell_type": "code",
      "metadata": {
        "id": "Wpn4WesUFUxg"
      },
      "source": [
        "def img_norm(data):\n",
        "  output = []\n",
        "  for img in data: \n",
        "    img = (img - np.mean(img))/np.std(img)\n",
        "    output.append(np.array(img))\n",
        "  return np.array(output)\n",
        "\n",
        "x_train_norm = img_norm(x_train)\n",
        "x_test_norm = img_norm(x_test)"
      ],
      "execution_count": 4,
      "outputs": []
    },
    {
      "cell_type": "code",
      "metadata": {
        "id": "62rDEbZpSKl6"
      },
      "source": [
        "train_loader = torch.utils.data.DataLoader(\n",
        "    np.concatenate((t_train[:,None], x_train_norm),axis=1),\n",
        "    batch_size=64, shuffle=True)\n",
        "\n",
        "test_loader = torch.utils.data.DataLoader(\n",
        "    np.concatenate((t_test[:,None], x_test_norm),axis=1),\n",
        "    batch_size=1000, shuffle=True)"
      ],
      "execution_count": 5,
      "outputs": []
    },
    {
      "cell_type": "markdown",
      "metadata": {
        "id": "qTzKhbQxR3ik"
      },
      "source": [
        "Defining CNN"
      ]
    },
    {
      "cell_type": "code",
      "metadata": {
        "id": "v6cZcnLpR1yD"
      },
      "source": [
        "class CNN(nn.Module):\n",
        "    def __init__(self, input_size, n_feature, output_size):\n",
        "        super(CNN, self).__init__()\n",
        "        self.n_feature = n_feature\n",
        "        self.conv1 = nn.Conv2d(in_channels=1, out_channels=n_feature, kernel_size=5)\n",
        "        self.conv2 = nn.Conv2d(n_feature, n_feature, kernel_size=5)\n",
        "        self.fc1 = nn.Linear(n_feature*4*4, 50)\n",
        "        self.fc2 = nn.Linear(50, output_size)\n",
        "        \n",
        "    def forward(self, x, verbose=False):\n",
        "        x = self.conv1(x)\n",
        "        x = F.relu(x)\n",
        "        x = F.max_pool2d(x, kernel_size=2)\n",
        "        x = self.conv2(x)\n",
        "        x = F.relu(x)\n",
        "        x = F.max_pool2d(x, kernel_size=2)\n",
        "        x = x.view(-1, self.n_feature*4*4)\n",
        "        x = self.fc1(x)\n",
        "        x = F.relu(x)\n",
        "        x = self.fc2(x)\n",
        "        x = F.log_softmax(x, dim=1)\n",
        "        return x\n",
        "\n",
        "\n",
        "def train(epoch, model, lr=0.01, momentum=0.5, perm=torch.arange(0, 784).long()):\n",
        "    model.train()\n",
        "    optimizer = optim.Adam(model.parameters(), lr=lr)\n",
        "    for batch_idx, ar in enumerate(train_loader):\n",
        "        data = ar[:,1:]\n",
        "        label = ar[:,0]\n",
        "        # send to device\n",
        "        data, label = data.to(device), label.to(device)\n",
        "        \n",
        "        # permute pixels\n",
        "        data = data.view(-1, 28*28)\n",
        "        data = data[:, perm]\n",
        "        data = data.view(-1, 1, 28, 28)\n",
        "\n",
        "        optimizer.zero_grad()\n",
        "        output = model(data)\n",
        "        loss = F.nll_loss(output, label.long())\n",
        "        loss.backward()\n",
        "        optimizer.step()\n",
        "        if batch_idx % 100 == 0:\n",
        "            print('Train Epoch: {} [{}/{} ({:.0f}%)]\\tLoss: {:.6f}'.format(\n",
        "                epoch, batch_idx * len(data), len(train_loader.dataset),\n",
        "                100. * batch_idx / len(train_loader), loss.item())) \n",
        "            \n",
        "\n",
        "accuracy_list = []\n",
        "\n",
        "def test(model, perm=torch.arange(0, 784).long()):\n",
        "    model.eval()\n",
        "    test_loss = 0\n",
        "    correct = 0\n",
        "    for ar in test_loader:\n",
        "        data = ar[:,1:]\n",
        "        label = ar[:,0]\n",
        "        # send to device\n",
        "        data, label = data.to(device), label.to(device)\n",
        "        \n",
        "        # permute pixels\n",
        "        data = data.view(-1, 28*28)\n",
        "        data = data[:, perm]\n",
        "        data = data.view(-1, 1, 28, 28)\n",
        "        output = model(data)\n",
        "        test_loss += F.nll_loss(output, label.long(), reduction='sum').item() # sum up batch loss                                                               \n",
        "        pred = output.data.max(1, keepdim=True)[1] # get the index of the max log-probability                                                                 \n",
        "        correct += pred.eq(label.data.view_as(pred)).cpu().sum().item()\n",
        "\n",
        "    test_loss /= len(test_loader.dataset)\n",
        "    accuracy = 100. * correct / len(test_loader.dataset)\n",
        "    accuracy_list.append(accuracy)\n",
        "    print('\\nTest set: Average loss: {:.4f}, Accuracy: {}/{} ({:.0f}%)\\n'.format(\n",
        "        test_loss, correct, len(test_loader.dataset),\n",
        "        accuracy))   "
      ],
      "execution_count": 6,
      "outputs": []
    },
    {
      "cell_type": "code",
      "metadata": {
        "colab": {
          "base_uri": "https://localhost:8080/"
        },
        "id": "-8PZXeXgSgDh",
        "outputId": "f72bbaa7-3432-43a2-b609-aa67a0e6e6ea"
      },
      "source": [
        "# Training settings \n",
        "n_features = 10 # number of feature maps\n",
        "\n",
        "input_size  = 28*28   # images are 28x28 pixels\n",
        "output_size = 26      # there are 26 classes\n",
        "\n",
        "model_cnn = CNN(input_size, n_features, output_size)\n",
        "model_cnn.to(device)\n",
        "\n",
        "lr = 0.001\n",
        "momentum = 0.1\n",
        "\n",
        "for epoch in range(0, 6):\n",
        "    train(epoch, model_cnn.double(), lr)\n",
        "test(model_cnn)"
      ],
      "execution_count": 7,
      "outputs": [
        {
          "output_type": "stream",
          "name": "stdout",
          "text": [
            "Train Epoch: 0 [0/27455 (0%)]\tLoss: 3.273212\n",
            "Train Epoch: 0 [6400/27455 (23%)]\tLoss: 1.236286\n",
            "Train Epoch: 0 [12800/27455 (47%)]\tLoss: 0.634972\n",
            "Train Epoch: 0 [19200/27455 (70%)]\tLoss: 0.393732\n",
            "Train Epoch: 0 [25600/27455 (93%)]\tLoss: 0.238706\n",
            "Train Epoch: 1 [0/27455 (0%)]\tLoss: 0.165967\n",
            "Train Epoch: 1 [6400/27455 (23%)]\tLoss: 0.200866\n",
            "Train Epoch: 1 [12800/27455 (47%)]\tLoss: 0.082935\n",
            "Train Epoch: 1 [19200/27455 (70%)]\tLoss: 0.050602\n",
            "Train Epoch: 1 [25600/27455 (93%)]\tLoss: 0.019439\n",
            "Train Epoch: 2 [0/27455 (0%)]\tLoss: 0.039789\n",
            "Train Epoch: 2 [6400/27455 (23%)]\tLoss: 0.023786\n",
            "Train Epoch: 2 [12800/27455 (47%)]\tLoss: 0.055425\n",
            "Train Epoch: 2 [19200/27455 (70%)]\tLoss: 0.008960\n",
            "Train Epoch: 2 [25600/27455 (93%)]\tLoss: 0.044574\n",
            "Train Epoch: 3 [0/27455 (0%)]\tLoss: 0.021043\n",
            "Train Epoch: 3 [6400/27455 (23%)]\tLoss: 0.003464\n",
            "Train Epoch: 3 [12800/27455 (47%)]\tLoss: 0.005511\n",
            "Train Epoch: 3 [19200/27455 (70%)]\tLoss: 0.003650\n",
            "Train Epoch: 3 [25600/27455 (93%)]\tLoss: 0.001587\n",
            "Train Epoch: 4 [0/27455 (0%)]\tLoss: 0.002555\n",
            "Train Epoch: 4 [6400/27455 (23%)]\tLoss: 0.001028\n",
            "Train Epoch: 4 [12800/27455 (47%)]\tLoss: 0.001931\n",
            "Train Epoch: 4 [19200/27455 (70%)]\tLoss: 0.001543\n",
            "Train Epoch: 4 [25600/27455 (93%)]\tLoss: 0.001182\n",
            "Train Epoch: 5 [0/27455 (0%)]\tLoss: 0.000312\n",
            "Train Epoch: 5 [6400/27455 (23%)]\tLoss: 0.007235\n",
            "Train Epoch: 5 [12800/27455 (47%)]\tLoss: 0.000448\n",
            "Train Epoch: 5 [19200/27455 (70%)]\tLoss: 0.001262\n",
            "Train Epoch: 5 [25600/27455 (93%)]\tLoss: 0.010865\n",
            "\n",
            "Test set: Average loss: 0.4798, Accuracy: 6522/7172 (91%)\n",
            "\n"
          ]
        }
      ]
    }
  ]
}