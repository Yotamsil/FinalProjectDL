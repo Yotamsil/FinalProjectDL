{
  "nbformat": 4,
  "nbformat_minor": 0,
  "metadata": {
    "colab": {
      "name": "Main.ipynb",
      "provenance": [],
      "collapsed_sections": []
    },
    "language_info": {
      "name": "python"
    },
    "kernelspec": {
      "name": "python3",
      "display_name": "Python 3"
    }
  },
  "cells": [
    {
      "cell_type": "markdown",
      "metadata": {
        "id": "Cx3i2Op-6X5n"
      },
      "source": [
        "# **Introduction to Deep Learning: Final Project**\n",
        "\n",
        "**Submitted by:**\n",
        "\n",
        "Roei Matz       205871478\n",
        "\n",
        "Yotam Silverman 313532418"
      ]
    },
    {
      "cell_type": "markdown",
      "metadata": {
        "id": "s4Ki8M-pCmgF"
      },
      "source": [
        "# Project Description\n",
        "\n",
        "The data for this project was gathered from the [sign language MNIST](https://www.kaggle.com/datamunge/sign-language-mnist) dataset from the website kaggle.com.\n",
        "\n",
        "\n",
        "The dataset format is patterned to match closely with the classic MNIST. Each training and test case represents a label (0-25) as a one-to-one map for each alphabetic letter A-Z (and no cases for 9=J or 25=Z because of gesture motions). The training data (27,455 cases) and test data (7172 cases) are approximately half the size of the standard MNIST but otherwise similar with a header row of label, pixel1,pixel2….pixel784 which represent a single 28x28 pixel image with grayscale values between 0-255.\n",
        "\n",
        "Our project's objective is to design and build a neural network that will identify the letters given in each image."
      ]
    },
    {
      "cell_type": "code",
      "metadata": {
        "id": "2zdEvcdO6X5s"
      },
      "source": [
        "import pandas\n",
        "import numpy as np\n",
        "import matplotlib.pyplot as plt\n",
        "import collections\n",
        "\n",
        "import torch\n",
        "import torch.nn as nn\n",
        "import torch.optim as optim\n",
        "\n",
        "import csv "
      ],
      "execution_count": 2,
      "outputs": []
    },
    {
      "cell_type": "markdown",
      "metadata": {
        "id": "70FvfUt8E0aX"
      },
      "source": [
        "Mount Google Drive and load the project's data:"
      ]
    },
    {
      "cell_type": "code",
      "metadata": {
        "colab": {
          "base_uri": "https://localhost:8080/"
        },
        "id": "PRlPFrSaEoJi",
        "outputId": "aaca7fb8-1534-4d61-ce75-768cc751799a"
      },
      "source": [
        "from google.colab import drive\n",
        "drive.mount('/content/gdrive')\n",
        "train_csv = open('/content/gdrive/My Drive/DL/sign_mnist_train.csv')\n",
        "test_csv  = open('/content/gdrive/My Drive/DL/sign_mnist_test.csv')"
      ],
      "execution_count": 3,
      "outputs": [
        {
          "output_type": "stream",
          "name": "stdout",
          "text": [
            "Mounted at /content/gdrive\n"
          ]
        }
      ]
    },
    {
      "cell_type": "code",
      "metadata": {
        "id": "PzC3fRTiKEZn",
        "outputId": "48c0d66f-6ed6-4186-f9d6-0e86507bf8be",
        "colab": {
          "base_uri": "https://localhost:8080/",
          "height": 35
        }
      },
      "source": [
        "\n",
        "csvReader = csv.reader(train_csv)    \n",
        "i = 0\n",
        "plt.figure(figsize=(16, 6))\n",
        "for row in csvReader:    \n",
        "  plt.subplot(1, 2, i + 1)\n",
        "  img = np.reshae(row[1:], (28, 28))\n",
        "  plt.imshow(img.squeeze().numpy(), cmap='Greys_r')\n",
        "  plt.axis('off');\n",
        "  i += 1\n",
        "  if i == 2:\n",
        "    break"
      ],
      "execution_count": 10,
      "outputs": [
        {
          "output_type": "display_data",
          "data": {
            "text/plain": [
              "<Figure size 1152x432 with 0 Axes>"
            ]
          },
          "metadata": {}
        }
      ]
    }
  ]
}